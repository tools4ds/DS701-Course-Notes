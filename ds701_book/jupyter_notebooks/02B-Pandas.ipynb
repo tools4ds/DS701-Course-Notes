{
  "cells": [
    {
      "cell_type": "markdown",
      "metadata": {},
      "source": [
        "---\n",
        "title: 'Essential Tools: Pandas'\n",
        "jupyter: python3\n",
        "code-fold: false\n",
        "---\n",
        "\n",
        "::: {.content-visible when-profile=\"web\"}\n",
        "## Introduction\n",
        "\n",
        "[![](https://colab.research.google.com/assets/colab-badge.svg)](https://colab.research.google.com/github/tools4ds/DS701-Course-Notes/blob/main/ds701_book/jupyter_notebooks/02B-Pandas.ipynb)\n",
        "\n",
        "In this lecture we discuss one of most useful Python packages for data \n",
        "science -- Pandas.\n",
        "\n",
        "We'll touch on some highlights here, but to learn more, start with the\n",
        "[Pandas Getting started tutorials](https://pandas.pydata.org/docs/getting_started/intro_tutorials/index.html)\n",
        ":::\n",
        "\n",
        "## Pandas\n",
        "\n",
        "::: {.incremental}\n",
        "\n",
        "- [Pandas](https://pandas.pydata.org/docs/index.html) is a Python library for data\n",
        "manipulation and analysis with an emphasis on tabular data. \n",
        "- It can be used to produce high quality plots and integrates nicely with other\n",
        "  libraries that expect NumPy arrays. \n",
        "- Knowledge and use of Pandas is essential as a data scientist.\n",
        ":::\n",
        "\n",
        ":::: {.fragment}\n",
        "The most important data structure provided by Pandas is the `DataFrame`\n",
        "implemented in the \n",
        "[DataFrame](https://pandas.pydata.org/docs/reference/frame.html) class. \n",
        "::::\n",
        "\n",
        ":::: {.fragment}\n",
        "Unlike a numpy array, a `DataFrame` can have columns of different types.\n",
        "::::\n",
        "\n",
        ":::: {.fragment}\n",
        "Make it a habit that when you're given a tabular dataset, load it into a `DataFrame`.\n",
        "::::\n",
        "\n",
        "## Fetching, storing and retrieving your data\n",
        "\n",
        "We'll work with stock data. A popular python package for this is `yfinance`, but\n",
        "there seems to be some access rate limits which make it more difficult to use.\n",
        "\n",
        "Instead we'll manually download a CSV file:\n",
        "\n",
        "    MANUAL DOWNLOAD FROM WALL STREET JOURNAL:\n",
        "    \n",
        "    1. Go to: https://www.wsj.com/market-data/quotes/NVDA/historical-prices\n",
        "    2. Set date range: January 1, 2024 to December 31, 2024\n",
        "    3. Click \"Download\" button\n",
        "    4. Save the CSV file\n",
        "    5. Load in Python:"
      ]
    },
    {
      "cell_type": "code",
      "metadata": {},
      "source": [
        "import pandas as pd\n",
        "\n",
        "try:\n",
        "    nvidia_stocks = pd.read_csv('data/stocks/nvidia_stock_2024.csv', index_col=0)\n",
        "except FileNotFoundError:\n",
        "    url = 'https://raw.githubusercontent.com/tools4ds/DS701-Course-Notes/main/ds701_book/data/stocks/nvidia_stock_2024.csv'\n",
        "    nvidia_stocks = pd.read_csv(url, index_col=0)\n",
        "\n",
        "nvidia_stocks = nvidia_stocks.sort_index()"
      ],
      "execution_count": null,
      "outputs": []
    },
    {
      "cell_type": "markdown",
      "metadata": {},
      "source": [
        "---\n",
        "\n",
        "It's important to inspect the data you are working with and Pandas provides a\n",
        "variety of methods to do so such as `.head()`, `.tail()`, `.info()`,\n",
        "`.describe()`, etc."
      ]
    },
    {
      "cell_type": "code",
      "metadata": {},
      "source": [
        "#| code-fold: false\n",
        "nvidia_stocks.head()"
      ],
      "execution_count": null,
      "outputs": []
    },
    {
      "cell_type": "markdown",
      "metadata": {},
      "source": [
        "Notice how each row has a label and each column has a label.\n",
        "\n",
        "---\n",
        "\n",
        "A DataFrame is a python object that has many associated methods to explore and\n",
        "manipulate the data.\n",
        "\n",
        "The method `.info()` gives you a description of the dataframe."
      ]
    },
    {
      "cell_type": "code",
      "metadata": {},
      "source": [
        "nvidia_stocks.info()"
      ],
      "execution_count": null,
      "outputs": []
    },
    {
      "cell_type": "markdown",
      "metadata": {},
      "source": [
        "---\n",
        "\n",
        "The method `.describe()` gives you summary statistics of the dataframe."
      ]
    },
    {
      "cell_type": "code",
      "metadata": {},
      "source": [
        "nvidia_stocks.describe()"
      ],
      "execution_count": null,
      "outputs": []
    },
    {
      "cell_type": "markdown",
      "metadata": {},
      "source": [
        "## Writing/Reading to/from a ``.csv`` file\n",
        "\n",
        "Pandas can read and write dataframes with many file formats such as `.csv`, `.json`, `.parquet`,\n",
        "`.xlsx`, `.html`, `SQL`, etc.\n",
        "\n",
        "Here we write the dataframe to a `.csv` file."
      ]
    },
    {
      "cell_type": "code",
      "metadata": {},
      "source": [
        "nvidia_stocks.to_csv('nvidia_data.csv')"
      ],
      "execution_count": null,
      "outputs": []
    },
    {
      "cell_type": "markdown",
      "metadata": {},
      "source": [
        "We can escape a shell command using the `!` operator to see the top of the file."
      ]
    },
    {
      "cell_type": "code",
      "metadata": {},
      "source": [
        "!head nvidia_data.csv"
      ],
      "execution_count": null,
      "outputs": []
    },
    {
      "cell_type": "markdown",
      "metadata": {},
      "source": [
        "---\n",
        "\n",
        "And of course we can likewise read a `.csv` file into a dataframe.  This is probably the most common way you will get data into Pandas."
      ]
    },
    {
      "cell_type": "code",
      "metadata": {},
      "source": [
        "df = pd.read_csv('nvidia_data.csv')\n",
        "df.head()"
      ],
      "execution_count": null,
      "outputs": []
    },
    {
      "cell_type": "markdown",
      "metadata": {},
      "source": [
        "::: {.callout-caution}\n",
        "But be careful, the index column is not automatically set.\n",
        ":::"
      ]
    },
    {
      "cell_type": "code",
      "metadata": {},
      "source": [
        "df.info()"
      ],
      "execution_count": null,
      "outputs": []
    },
    {
      "cell_type": "markdown",
      "metadata": {},
      "source": [
        "Note the index description.\n",
        "\n",
        "---\n",
        "\n",
        "To set the index column, we can use the `index_col` parameter."
      ]
    },
    {
      "cell_type": "code",
      "metadata": {},
      "source": [
        "df = pd.read_csv('nvidia_data.csv', index_col=0)\n",
        "df.info()"
      ],
      "execution_count": null,
      "outputs": []
    },
    {
      "cell_type": "markdown",
      "metadata": {},
      "source": [
        "## Working with data columns\n",
        "\n",
        "In general, we'll typically describe the rows in the dataframe as **items** \n",
        "(or **observations** or **data samples**) and the columns as **features**."
      ]
    },
    {
      "cell_type": "code",
      "metadata": {},
      "source": [
        "df.columns"
      ],
      "execution_count": null,
      "outputs": []
    },
    {
      "cell_type": "markdown",
      "metadata": {},
      "source": [
        "Pandas allows you to reference a column similar to a python dictionary key,\n",
        "using column names in square brackets."
      ]
    },
    {
      "cell_type": "code",
      "metadata": {},
      "source": [
        "df['Open']"
      ],
      "execution_count": null,
      "outputs": []
    },
    {
      "cell_type": "markdown",
      "metadata": {},
      "source": [
        "Note that this returns a `Series` object, the other fundamental data structure in Pandas."
      ]
    },
    {
      "cell_type": "code",
      "metadata": {},
      "source": [
        "type(df['Open'])"
      ],
      "execution_count": null,
      "outputs": []
    },
    {
      "cell_type": "markdown",
      "metadata": {},
      "source": [
        "Also note that Series is indexed in this case by dates rather than simple integers.\n",
        "\n",
        "---\n",
        "\n",
        "Pandas also allows you to refer to columns using an object attribute syntax.\n",
        "\n",
        "Note that the column name cannot include a space in this case."
      ]
    },
    {
      "cell_type": "code",
      "metadata": {},
      "source": [
        "df.Open"
      ],
      "execution_count": null,
      "outputs": []
    },
    {
      "cell_type": "markdown",
      "metadata": {},
      "source": [
        "---\n",
        "\n",
        "You can select a list of columns:"
      ]
    },
    {
      "cell_type": "code",
      "metadata": {},
      "source": [
        "df[['Open', 'Close']].head()"
      ],
      "execution_count": null,
      "outputs": []
    },
    {
      "cell_type": "markdown",
      "metadata": {},
      "source": [
        "Which is just another dataframe, which is why we can chain the `.head()` method."
      ]
    },
    {
      "cell_type": "code",
      "metadata": {},
      "source": [
        "type(df[['Open', 'Close']])"
      ],
      "execution_count": null,
      "outputs": []
    },
    {
      "cell_type": "markdown",
      "metadata": {},
      "source": [
        "---\n",
        "\n",
        "Changing column names is as simple as assigning to the `.columns` property.\n",
        "\n",
        "Let's adjust the column names to remove spaces."
      ]
    },
    {
      "cell_type": "code",
      "metadata": {},
      "source": [
        "new_column_names = [x.lower().replace(' ', '_') for x in df.columns]\n",
        "df.columns = new_column_names\n",
        "df.info()"
      ],
      "execution_count": null,
      "outputs": []
    },
    {
      "cell_type": "markdown",
      "metadata": {},
      "source": [
        "Observe that we first created a list of column names without spaces using __list comprehension__. This is the pythonic way to generate a new list.\n",
        "\n",
        "Now **all** columns can be accessed using the **dot** notation.\n",
        "\n",
        "\n",
        "## A sampling of DataFrame methods.\n",
        "\n",
        "There are many useful methods in the DataFrame object. It is important to\n",
        "familiarize yourself with these methods.\n",
        "\n",
        "The following methods calculate the mean, standard deviation, and median of the specified numeric columns."
      ]
    },
    {
      "cell_type": "code",
      "metadata": {},
      "source": [
        "df.mean()"
      ],
      "execution_count": null,
      "outputs": []
    },
    {
      "cell_type": "markdown",
      "metadata": {},
      "source": [
        "or we can give a list of columns to the Dataframe object:"
      ]
    },
    {
      "cell_type": "code",
      "metadata": {},
      "source": [
        "df[['open', 'close', 'volume']].mean()"
      ],
      "execution_count": null,
      "outputs": []
    },
    {
      "cell_type": "code",
      "metadata": {},
      "source": [
        "df.std()"
      ],
      "execution_count": null,
      "outputs": []
    },
    {
      "cell_type": "code",
      "metadata": {},
      "source": [
        "df.median()"
      ],
      "execution_count": null,
      "outputs": []
    },
    {
      "cell_type": "markdown",
      "metadata": {},
      "source": [
        "Or apply the method to a single column:"
      ]
    },
    {
      "cell_type": "code",
      "metadata": {},
      "source": [
        "df.open.mean()"
      ],
      "execution_count": null,
      "outputs": []
    },
    {
      "cell_type": "code",
      "metadata": {},
      "source": [
        "df.high.mean()"
      ],
      "execution_count": null,
      "outputs": []
    },
    {
      "cell_type": "markdown",
      "metadata": {},
      "source": [
        "## Plotting methods\n",
        "\n",
        "Pandas also wraps `matplotlib` and provides a variety of easy-to-use plotting\n",
        "functions directly from the dataframe object.\n",
        "\n",
        "These are your \"first look\" functions and useful in exploratory data analysis.\n",
        "\n",
        "Later, we will use more specialized graphics packages to create more\n",
        "sophisticated visualizations."
      ]
    },
    {
      "cell_type": "code",
      "metadata": {},
      "source": [
        "import matplotlib.pyplot as plt\n",
        "\n",
        "df.high.plot(label='High')\n",
        "df.low.plot(label='Low')\n",
        "plt.title('NVIDIA Stock Price')\n",
        "plt.ylabel('Dollars')\n",
        "plt.legend(loc='best')\n",
        "plt.show()"
      ],
      "execution_count": null,
      "outputs": []
    },
    {
      "cell_type": "markdown",
      "metadata": {},
      "source": [
        "---\n",
        "\n",
        "Or a histogram on the adjusted closing price."
      ]
    },
    {
      "cell_type": "code",
      "metadata": {},
      "source": [
        "df.close.hist()\n",
        "plt.xlabel('Closing Price')\n",
        "plt.ylabel('Dollars')\n",
        "plt.title('NVIDIA Stock Price')\n",
        "plt.show()"
      ],
      "execution_count": null,
      "outputs": []
    },
    {
      "cell_type": "markdown",
      "metadata": {},
      "source": [
        "## Accessing rows of the DataFrame\n",
        "\n",
        "So far we've seen how to access a column of the DataFrame. To access a row we use different syntax.\n",
        "\n",
        "To access a row by its index label, use the **`.loc()`** method ('location')."
      ]
    },
    {
      "cell_type": "code",
      "metadata": {},
      "source": [
        "df.loc['01/02/24']"
      ],
      "execution_count": null,
      "outputs": []
    },
    {
      "cell_type": "markdown",
      "metadata": {},
      "source": [
        "As a tangent, we can use the `.apply()` method to format the output."
      ]
    },
    {
      "cell_type": "code",
      "metadata": {},
      "source": [
        "df.loc['01/02/24'].apply(lambda x: '{:,.2f}'.format(x) if isinstance(x, (int, float)) else x)"
      ],
      "execution_count": null,
      "outputs": []
    },
    {
      "cell_type": "markdown",
      "metadata": {},
      "source": [
        "---\n",
        "\n",
        "To access a row by its index number (i.e., like an array index), use **`.iloc()`** ('integer location')"
      ]
    },
    {
      "cell_type": "code",
      "metadata": {},
      "source": [
        "df.iloc[0, :]"
      ],
      "execution_count": null,
      "outputs": []
    },
    {
      "cell_type": "markdown",
      "metadata": {},
      "source": [
        "and similarly formatted:"
      ]
    },
    {
      "cell_type": "code",
      "metadata": {},
      "source": [
        "df.iloc[0, :].apply(lambda x: '{:,.2f}'.format(x) if isinstance(x, (int, float)) else x)"
      ],
      "execution_count": null,
      "outputs": []
    },
    {
      "cell_type": "markdown",
      "metadata": {},
      "source": [
        "---\n",
        "\n",
        "To iterate over the rows you can use **`.iterrows()`**."
      ]
    },
    {
      "cell_type": "code",
      "metadata": {},
      "source": [
        "num_positive_days = 0\n",
        "for idx, row in df.iterrows():\n",
        "    if row.close > row.open:\n",
        "        num_positive_days += 1\n",
        "\n",
        "print(f\"The total number of positive-gain days is {num_positive_days} out of {len(df)} days or as percentage {num_positive_days/len(df):.2%}\")"
      ],
      "execution_count": null,
      "outputs": []
    },
    {
      "cell_type": "markdown",
      "metadata": {},
      "source": [
        "::: {.callout-note}\n",
        "This is only capturing the intraday gain/loss, not the cumulative inter-day gain/loss.\n",
        ":::\n",
        "\n",
        "## Filtering\n",
        "\n",
        "It is easy to select rows from the data.  \n",
        "\n",
        "All the operations below return a new Series or DataFrame, which itself can be\n",
        "treated the same way as all Series and DataFrames we have seen so far."
      ]
    },
    {
      "cell_type": "code",
      "metadata": {},
      "source": [
        "tmp_high = df.high > 100\n",
        "tmp_high.tail()"
      ],
      "execution_count": null,
      "outputs": []
    },
    {
      "cell_type": "markdown",
      "metadata": {},
      "source": [
        "Summing a Boolean array is the same as counting the number of `True` values."
      ]
    },
    {
      "cell_type": "code",
      "metadata": {},
      "source": [
        "sum(tmp_high)"
      ],
      "execution_count": null,
      "outputs": []
    },
    {
      "cell_type": "markdown",
      "metadata": {},
      "source": [
        "---\n",
        "\n",
        "Now, let's select only the rows of `df` that correspond to `tmp_high`. \n",
        "\n",
        "::: {.callout-note}\n",
        "We can pass a series to the dataframe to select rows.\n",
        ":::"
      ]
    },
    {
      "cell_type": "code",
      "metadata": {},
      "source": [
        "df[tmp_high]"
      ],
      "execution_count": null,
      "outputs": []
    },
    {
      "cell_type": "markdown",
      "metadata": {},
      "source": [
        "---\n",
        "\n",
        "Putting it all together, we can count the number of positive days without iterating over the rows."
      ]
    },
    {
      "cell_type": "code",
      "metadata": {},
      "source": [
        "positive_days = df[df.close > df.open]\n",
        "print(f\"Total number of positive-gain days is {len(positive_days)}\")\n",
        "positive_days.head()"
      ],
      "execution_count": null,
      "outputs": []
    },
    {
      "cell_type": "markdown",
      "metadata": {},
      "source": [
        "---\n",
        "\n",
        "Or count the number of days with a gain of more than $2."
      ]
    },
    {
      "cell_type": "code",
      "metadata": {},
      "source": [
        "very_positive_days = df[(df.close - df.open) > 2]\n",
        "print(f\"Total number of days with gain > $2 is {len(very_positive_days)}\")\n",
        "very_positive_days.head()"
      ],
      "execution_count": null,
      "outputs": []
    },
    {
      "cell_type": "markdown",
      "metadata": {},
      "source": [
        "Note that this doesn't the explain the total gain for the year. Why?\n",
        "\n",
        "## Creating new columns\n",
        "\n",
        "To create a new column, simply assign values to it. The column name is similar to a key in a dictionary.\n",
        "\n",
        "Let's look at the daily change in closing price."
      ]
    },
    {
      "cell_type": "code",
      "metadata": {},
      "source": [
        "# Calculate the daily change in closing price\n",
        "df['daily_change'] = df['close'].diff()\n",
        "\n",
        "# Create the cumulative profit column\n",
        "df['cum_profit'] = df['daily_change'].cumsum()\n",
        "\n",
        "# Display the first few rows to verify the new column\n",
        "print(df[['close', 'daily_change', 'cum_profit']].head())"
      ],
      "execution_count": null,
      "outputs": []
    },
    {
      "cell_type": "markdown",
      "metadata": {},
      "source": [
        "It is convenient that `.diff()` by default is the difference between the current and previous row.\n",
        "\n",
        "---\n",
        "\n",
        "Let's look at the histogram of the daily change in stock price."
      ]
    },
    {
      "cell_type": "code",
      "metadata": {},
      "source": [
        "# Plot histogram of daily_change\n",
        "plt.figure(figsize=(10, 6))\n",
        "df['daily_change'].hist(bins=50, edgecolor='black')\n",
        "plt.title('Histogram of Daily Change in Stock Price')\n",
        "plt.xlabel('Daily Change')\n",
        "plt.ylabel('Frequency')\n",
        "plt.show()"
      ],
      "execution_count": null,
      "outputs": []
    },
    {
      "cell_type": "markdown",
      "metadata": {},
      "source": [
        "---\n",
        "\n",
        "Let's give each row a `gain` value as a categorical variable."
      ]
    },
    {
      "cell_type": "code",
      "metadata": {},
      "source": [
        "for idx, row in df.iterrows():\n",
        "    if row.daily_change < 0:\n",
        "        df.loc[idx,'cat_gain']='negative'\n",
        "    elif row.daily_change < 1:\n",
        "        df.loc[idx,'cat_gain']='small_gain'\n",
        "    elif row.daily_change < 2:\n",
        "        df.loc[idx,'cat_gain']='medium_gain'\n",
        "    elif row.daily_change >= 2:\n",
        "        df.loc[idx,'cat_gain']='large_gain'\n",
        "df.head()"
      ],
      "execution_count": null,
      "outputs": []
    },
    {
      "cell_type": "markdown",
      "metadata": {},
      "source": [
        "---\n",
        "\n",
        "Here is another, more \"functional\", way to accomplish the same thing.\n",
        "\n",
        "First, let's drop the gain column so we can start fresh."
      ]
    },
    {
      "cell_type": "code",
      "metadata": {},
      "source": [
        "df.drop('cat_gain', axis=1, inplace=True)\n",
        "df.head()"
      ],
      "execution_count": null,
      "outputs": []
    },
    {
      "cell_type": "markdown",
      "metadata": {},
      "source": [
        "---\n",
        "\n",
        "Define a function that classifies rows, and `apply` it to each row."
      ]
    },
    {
      "cell_type": "code",
      "metadata": {},
      "source": [
        "def namerow(row):\n",
        "    if row.daily_change < 0:\n",
        "        return 'negative'\n",
        "    elif row.daily_change < 1:\n",
        "        return 'small_gain'\n",
        "    elif row.daily_change < 2:\n",
        "        return 'medium_gain'\n",
        "    elif row.daily_change >= 2:\n",
        "        return 'large_gain'\n",
        "\n",
        "df['cat_gain'] = df.apply(namerow, axis=1)\n",
        "df.head()"
      ],
      "execution_count": null,
      "outputs": []
    },
    {
      "cell_type": "markdown",
      "metadata": {},
      "source": [
        "# Understanding pandas DataFrame.groupby()\n",
        "\n",
        "## Introduction\n",
        "\n",
        "The `groupby()` function is one of the most powerful tools in pandas for data analysis. It implements the \"split-apply-combine\" pattern:\n",
        "\n",
        "1. **Split** your data into groups based on some criteria\n",
        "2. **Apply** a function to each group independently\n",
        "3. **Combine** the results back into a data structure\n",
        "\n",
        "Think of it like organizing a deck of cards by suit, then counting how many cards are in each suit, then presenting those counts in a summary table.\n",
        "\n",
        "## Basic Concept\n",
        "\n",
        "Imagine you have a dataset of student grades:"
      ]
    },
    {
      "cell_type": "code",
      "metadata": {},
      "source": [
        "import pandas as pd\n",
        "\n",
        "data = {\n",
        "    'student': ['Alice', 'Bob', 'Alice', 'Bob', 'Charlie', 'Charlie'],\n",
        "    'subject': ['Math', 'Math', 'English', 'English', 'Math', 'English'],\n",
        "    'score': [85, 78, 92, 88, 95, 90]\n",
        "}\n",
        "\n",
        "df = pd.DataFrame(data)\n",
        "print(df)"
      ],
      "execution_count": null,
      "outputs": []
    },
    {
      "cell_type": "markdown",
      "metadata": {},
      "source": [
        "## Example 1: Simple Grouping\n",
        "\n",
        "Let's find the average score for each student:"
      ]
    },
    {
      "cell_type": "code",
      "metadata": {},
      "source": [
        "# Group by student and calculate mean\n",
        "result = df.groupby('student')['score'].mean()\n",
        "print(result)"
      ],
      "execution_count": null,
      "outputs": []
    },
    {
      "cell_type": "markdown",
      "metadata": {},
      "source": [
        "**What happened?**\n",
        "\n",
        "- pandas split the data into 3 groups (one per student)\n",
        "- Applied the `mean()` function to each group's scores\n",
        "- Combined the results into a Series indexed by the student names\n",
        "\n",
        "## Example 2: Multiple Aggregations\n",
        "\n",
        "You can apply multiple functions at once:"
      ]
    },
    {
      "cell_type": "code",
      "metadata": {},
      "source": [
        "# Multiple aggregations\n",
        "result = df.groupby('student')['score'].agg(['mean', 'min', 'max', 'count'])\n",
        "print(result)"
      ],
      "execution_count": null,
      "outputs": []
    },
    {
      "cell_type": "markdown",
      "metadata": {},
      "source": [
        "where the list in the `agg()` method is both a list of functions to apply to the column and a list of names for the columns in the resulting DataFrame.\n",
        "\n",
        "**What happened?**\n",
        "\n",
        "- pandas split the data into 3 groups (one per student)\n",
        "- Applied the `mean()`, `min()`, `max()`, and `count()` functions to each group's scores\n",
        "- Combined the results into a DataFrame indexed by the student names with the column names being the functions applied to the scores.\n",
        "\n",
        "## Example 3: Grouping by Multiple Columns\n",
        "\n",
        "What if we want to see scores grouped by both student AND subject?"
      ]
    },
    {
      "cell_type": "code",
      "metadata": {},
      "source": [
        "# Group by multiple columns\n",
        "result = df.groupby(['student', 'subject'])['score'].mean()\n",
        "print(result)"
      ],
      "execution_count": null,
      "outputs": []
    },
    {
      "cell_type": "markdown",
      "metadata": {},
      "source": [
        "This creates a hierarchical index (MultiIndex) with two levels.\n",
        "\n",
        "## Example 4: Aggregating Multiple Columns\n",
        "\n",
        "Let's add more data:"
      ]
    },
    {
      "cell_type": "code",
      "metadata": {},
      "source": [
        "data = {\n",
        "    'student': ['Alice', 'Bob', 'Alice', 'Bob', 'Charlie', 'Charlie'],\n",
        "    'subject': ['Math', 'Math', 'English', 'English', 'Math', 'English'],\n",
        "    'score': [85, 78, 92, 88, 95, 90],\n",
        "    'hours_studied': [5, 3, 6, 4, 7, 5]\n",
        "}\n",
        "\n",
        "df = pd.DataFrame(data)\n",
        "\n",
        "# Group by student and get mean of all numeric columns\n",
        "result = df.groupby('student')[['score', 'hours_studied']].mean()\n",
        "print(result)"
      ],
      "execution_count": null,
      "outputs": []
    },
    {
      "cell_type": "markdown",
      "metadata": {},
      "source": [
        "## Example 5: Different Aggregations for Different Columns\n",
        "\n",
        "You can apply different functions to different columns:"
      ]
    },
    {
      "cell_type": "code",
      "metadata": {},
      "source": [
        "# Different aggregations for different columns\n",
        "result = df.groupby('student').agg({\n",
        "    'score': ['mean', 'max'],\n",
        "    'hours_studied': 'sum'\n",
        "})\n",
        "print(result)"
      ],
      "execution_count": null,
      "outputs": []
    },
    {
      "cell_type": "markdown",
      "metadata": {},
      "source": [
        "## Example 6: Using Custom Functions\n",
        "\n",
        "You can define your own aggregation functions:"
      ]
    },
    {
      "cell_type": "code",
      "metadata": {},
      "source": [
        "# Custom function: range (max - min)\n",
        "def score_range(x):\n",
        "    return x.max() - x.min()\n",
        "\n",
        "result = df.groupby('student')['score'].agg([\n",
        "    'mean',\n",
        "    ('range', score_range)\n",
        "])\n",
        "print(result)"
      ],
      "execution_count": null,
      "outputs": []
    },
    {
      "cell_type": "markdown",
      "metadata": {},
      "source": [
        "where the argument `('range', score_range)` is a tuple with the name of the column in the resulting DataFrame and the function to apply to the column.\n",
        "\n",
        "**What happened?**\n",
        "\n",
        "- pandas split the data into 3 groups (one per student)\n",
        "- Applied the `mean()` function to the scores column\n",
        "- Applied the `score_range()` function to the scores column and named the column `range` in the resulting DataFrame\n",
        "- Combined the results into a DataFrame indexed by the student names with the column names being the functions applied to the scores.\n",
        "\n",
        "\n",
        "## Example 7: Filtering Groups\n",
        "\n",
        "You can filter out entire groups based on conditions:"
      ]
    },
    {
      "cell_type": "code",
      "metadata": {},
      "source": [
        "# Only keep students with average score above 85\n",
        "result = df.groupby('student').filter(lambda x: x['score'].mean() > 85)\n",
        "print(result)"
      ],
      "execution_count": null,
      "outputs": []
    },
    {
      "cell_type": "markdown",
      "metadata": {},
      "source": [
        "## Example 8: Transform - Keeping Original Shape\n",
        "\n",
        "Sometimes you want to add group statistics to your original dataframe:"
      ]
    },
    {
      "cell_type": "code",
      "metadata": {},
      "source": [
        "# Add a column with each student's average score\n",
        "df['student_avg'] = df.groupby('student')['score'].transform('mean')\n",
        "print(df)"
      ],
      "execution_count": null,
      "outputs": []
    },
    {
      "cell_type": "markdown",
      "metadata": {},
      "source": [
        "Notice how `transform()` returns a Series with the same length as the original DataFrame, broadcasting the group statistic to all rows in that group.\n",
        "\n",
        "## Example 9: Apply - Maximum Flexibility\n",
        "\n",
        "The `apply()` method gives you complete control and can return different shapes:"
      ]
    },
    {
      "cell_type": "code",
      "metadata": {},
      "source": [
        "# Use apply() to get multiple statistics per group\n",
        "def analyze_student(group):\n",
        "    return pd.Series({\n",
        "        'avg_score': group['score'].mean(),\n",
        "        'score_range': group['score'].max() - group['score'].min(),\n",
        "        'total_hours': group['hours_studied'].sum(),\n",
        "        'efficiency': group['score'].mean() / group['hours_studied'].mean()\n",
        "    })\n",
        "\n",
        "result = df.groupby('student').apply(analyze_student, include_groups=False)\n",
        "print(result)"
      ],
      "execution_count": null,
      "outputs": []
    },
    {
      "cell_type": "markdown",
      "metadata": {},
      "source": [
        "Note: Unlike `transform()` which must return the same shape as the input, `apply()` can return aggregated results of any shape.\n",
        "\n",
        "\n",
        "## Example 10: Iterating Over Groups\n",
        "\n",
        "Sometimes you need to process each group separately:"
      ]
    },
    {
      "cell_type": "code",
      "metadata": {},
      "source": [
        "# Iterate over groups\n",
        "for name, group in df.groupby('student'):\n",
        "    print(f\"\\n{name}'s records:\")\n",
        "    print(group)"
      ],
      "execution_count": null,
      "outputs": []
    },
    {
      "cell_type": "markdown",
      "metadata": {},
      "source": [
        "## Common Aggregation Functions\n",
        "\n",
        "Here are the most commonly used aggregation functions:\n",
        "\n",
        "- `count()` - Number of non-null values\n",
        "- `sum()` - Sum of values\n",
        "- `mean()` - Average of values\n",
        "- `median()` - Median value\n",
        "- `min()` - Minimum value\n",
        "- `max()` - Maximum value\n",
        "- `std()` - Standard deviation\n",
        "- `var()` - Variance\n",
        "- `first()` - First value in group\n",
        "- `last()` - Last value in group\n",
        "- `size()` - Number of rows (including NaN)\n",
        "\n",
        "## Example 11: (Synthetic) Sales Data Analysis"
      ]
    },
    {
      "cell_type": "code",
      "metadata": {},
      "source": [
        "# Sample sales data\n",
        "sales_data = {\n",
        "    'date': pd.date_range('2024-01-01', periods=12, freq='ME'),\n",
        "    'region': ['North', 'South', 'North', 'South', 'North', 'South',\n",
        "               'North', 'South', 'North', 'South', 'North', 'South'],\n",
        "    'product': ['A', 'A', 'B', 'B', 'A', 'A', 'B', 'B', 'A', 'A', 'B', 'B'],\n",
        "    'sales': [100, 150, 200, 175, 110, 165, 210, 180, 120, 170, 220, 190],\n",
        "    'units': [10, 15, 20, 17, 11, 16, 21, 18, 12, 17, 22, 19]\n",
        "}\n",
        "\n",
        "sales_df = pd.DataFrame(sales_data)\n",
        "print(sales_df)\n",
        "\n",
        "# Comprehensive analysis by region\n",
        "analysis = sales_df.groupby('region').agg({\n",
        "    'sales': ['sum', 'mean', 'max'],\n",
        "    'units': 'sum',\n",
        "    'product': 'count'  # Count of transactions\n",
        "})\n",
        "\n",
        "print(\"\\nAnalysis:\")\n",
        "print(analysis)"
      ],
      "execution_count": null,
      "outputs": []
    },
    {
      "cell_type": "markdown",
      "metadata": {},
      "source": [
        "## Tips and Best Practices\n",
        "\n",
        "1. **Reset Index**: After groupby operations, you often want to reset the index:"
      ]
    },
    {
      "cell_type": "code",
      "metadata": {
        "md-indent": "   "
      },
      "source": [
        "result = df.groupby('student')['score'].mean().reset_index()\n",
        "print(\"\\nResult:\")\n",
        "print(result)\n",
        "\n",
        "result2 = df.groupby('student')['score'].mean().reset_index()\n",
        "print(\"\\nResult2:\")\n",
        "print(result2)"
      ],
      "execution_count": null,
      "outputs": []
    },
    {
      "cell_type": "markdown",
      "metadata": {},
      "source": [
        "2. **Naming Aggregations**: Give your aggregated columns meaningful names:"
      ]
    },
    {
      "cell_type": "code",
      "metadata": {
        "md-indent": "   "
      },
      "source": [
        "result = df.groupby('student').agg(\n",
        "    avg_score=('score', 'mean'),\n",
        "    total_hours=('hours_studied', 'sum')\n",
        ")"
      ],
      "execution_count": null,
      "outputs": []
    },
    {
      "cell_type": "markdown",
      "metadata": {},
      "source": [
        "3. **Performance**: For large datasets, groupby is highly optimized in pandas. It's usually faster than writing loops.\n",
        "\n",
        "4. **Missing Values**: By default, groupby excludes NaN values from groups. Use `dropna=False` to include them:"
      ]
    },
    {
      "cell_type": "code",
      "metadata": {
        "md-indent": "   "
      },
      "source": [
        "df.groupby('student', dropna=False)['score'].mean()"
      ],
      "execution_count": null,
      "outputs": []
    },
    {
      "cell_type": "markdown",
      "metadata": {},
      "source": [
        "5. **Sort Results**: Control sorting with `sort=True/False`:"
      ]
    },
    {
      "cell_type": "code",
      "metadata": {
        "md-indent": "   "
      },
      "source": [
        "df.groupby('student', sort=False)['score'].mean()  # Preserve original order"
      ],
      "execution_count": null,
      "outputs": []
    },
    {
      "cell_type": "markdown",
      "metadata": {},
      "source": [
        "## Visualizing Grouped Data\n",
        "\n",
        "Groupby works seamlessly with pandas plotting:"
      ]
    },
    {
      "cell_type": "code",
      "metadata": {},
      "source": [
        "# Create a bar chart of average scores by student\n",
        "df.groupby('student')['score'].mean().plot(kind='bar')"
      ],
      "execution_count": null,
      "outputs": []
    },
    {
      "cell_type": "markdown",
      "metadata": {},
      "source": [
        "## `groupby()` Summary\n",
        "\n",
        "The `groupby()` function is essential for:\n",
        "\n",
        "- Calculating statistics by category\n",
        "- Finding patterns in subgroups\n",
        "- Data aggregation and summarization\n",
        "- Feature engineering (with transform)\n",
        "- Comparative analysis\n",
        "\n",
        "Master the split-apply-combine pattern, and you'll unlock powerful data analysis capabilities!\n",
        "\n",
        "## `groupby()` Practice Exercise\n",
        "\n",
        "Try this on your own:"
      ]
    },
    {
      "cell_type": "code",
      "metadata": {},
      "source": [
        "# Create sample data\n",
        "practice_data = {\n",
        "    'department': ['Sales', 'Sales', 'IT', 'IT', 'HR', 'HR', 'Sales', 'IT'],\n",
        "    'employee': ['John', 'Jane', 'Bob', 'Alice', 'Tom', 'Mary', 'Steve', 'Linda'],\n",
        "    'salary': [50000, 55000, 65000, 70000, 48000, 52000, 53000, 68000],\n",
        "    'experience': [2, 3, 5, 7, 1, 4, 3, 6]\n",
        "}\n",
        "\n",
        "practice_df = pd.DataFrame(practice_data)\n",
        "\n",
        "# Try to answer:\n",
        "# 1. What's the average salary by department?\n",
        "# 2. What's the total experience and max salary by department?\n",
        "# 3. Add a column showing each employee's salary as a percentage of their department's total?"
      ],
      "execution_count": null,
      "outputs": []
    },
    {
      "cell_type": "markdown",
      "metadata": {},
      "source": [
        "# Other Pandas Classes\n",
        "\n",
        "A DataFrame is essentially an annotated 2-D array.\n",
        "\n",
        "Pandas also has annotated versions of 1-D and 3-D arrays.\n",
        "\n",
        "A 1-D array in Pandas is called a [Series](https://pandas.pydata.org/docs/reference/series.html). \n",
        "You can think of DataFrames as a dictionary of Series.\n",
        "\n",
        "A 3-D array in Pandas is created using a\n",
        "[MultiIndex](https://pandas.pydata.org/docs/reference/api/pandas.MultiIndex.html#).\n",
        "\n",
        "For more information read the documentation.\n",
        "\n",
        "\n",
        "# In Class Activity\n",
        "\n",
        "### Iris Flower Analysis with Pandas\n",
        "**Duration:** 20-25 minutes | **Teams:** 3 students each\n",
        "\n",
        "#### Dataset: Iris Flower Dataset\n",
        "**Download Instructions:**\n",
        "The Iris dataset is built into seaborn, so no download needed!"
      ]
    },
    {
      "cell_type": "code",
      "metadata": {},
      "source": [
        "import pandas as pd\n",
        "import seaborn as sns\n",
        "\n",
        "# Load the Iris dataset directly\n",
        "iris = sns.load_dataset('iris')"
      ],
      "execution_count": null,
      "outputs": []
    },
    {
      "cell_type": "markdown",
      "metadata": {},
      "source": [
        "#### Team Roles (2 minutes)\n",
        "- **Data Loader:** Loads data and explores structure\n",
        "- **Data Analyzer:** Performs calculations and filtering  \n",
        "- **Data Visualizer:** Creates plots and charts\n",
        "\n",
        "#### Activity Tasks (20 minutes)\n",
        "\n",
        "**Phase 1: Data Loading & Exploration (5 minutes)**\n",
        "1. Check the shape and column names\n",
        "2. Use `.head()`, `.info()`, and `.describe()` to explore the data\n",
        "\n",
        "```python\n",
        "\n",
        "# Replace 0 and '[]' with the correct methods on iris\n",
        "print(f\"Dataset shape: {0}\")\n",
        "print(f\"Columns: {['']}\")\n",
        "\n",
        "# Look at the first few rows\n",
        "print(\"First 5 rows:\")\n",
        "\n",
        "# Get basic info about the dataset\n",
        "print(\"\\nDataset Info:\")\n",
        "\n",
        "# Describe the dataset with summary statistics\n",
        "print(\"\\nSummary Statistics:\")\n",
        "\n",
        "```\n",
        "\n",
        "**Phase 2: Basic Data Manipulation (8 minutes)**\n",
        "1. **Create new columns:**\n",
        "   - Add a 'petal_area' column (petal_length × petal_width)\n",
        "   - Create a 'sepal_area' column (sepal_length × sepal_width)\n",
        "   - Create a 'size_category' column:\n",
        "     - 'Small' (petal_area < 2)\n",
        "     - 'Medium' (petal_area 2-5) \n",
        "     - 'Large' (petal_area > 5)\n",
        "\n",
        "```python\n",
        "# Create petal area column\n",
        "iris['petal_area'] = ...\n",
        "\n",
        "# Create sepal area column\n",
        "iris['sepal_area'] = ...\n",
        "\n",
        "# Create size category column\n",
        "def categorize_size(petal_area):\n",
        "    if ... :\n",
        "        return 'Small'\n",
        "    elif ... :\n",
        "        return 'Medium'\n",
        "    else:\n",
        "        return 'Large'\n",
        "\n",
        "iris['size_category'] = ...\n",
        "\n",
        "print(\"New columns created:\")\n",
        "print(iris[['petal_length', 'petal_width', 'petal_area', 'size_category']].head(10))\n",
        "```\n",
        "\n",
        "2. **Data Filtering:**\n",
        "   - Find all 'setosa' species flowers\n",
        "   - Filter for large flowers only\n",
        "   - Find flowers with sepal_length > 6\n",
        "\n",
        "```python\n",
        "# Find all 'setosa' species flowers\n",
        "setosa_flowers = ...\n",
        "print(f\"Setosa flowers: {len(setosa_flowers)} out of {len(iris)}\")\n",
        "\n",
        "# Filter for large flowers only\n",
        "large_flowers = ...\n",
        "print(f\"Large flowers: {len(large_flowers)} out of {len(iris)}\")\n",
        "\n",
        "# Find flowers with sepal_length > 6\n",
        "long_sepal = ...\n",
        "print(f\"Flowers with sepal_length > 6: {len(long_sepal)} out of {len(iris)}\")\n",
        "```\n",
        "\n",
        "3. **Basic Analysis:**\n",
        "   - Count flowers by species\n",
        "   - Find average petal length by species\n",
        "\n",
        "```python\n",
        "# Count flowers by species\n",
        "species_counts = ...\n",
        "print(\"Flowers by species:\")\n",
        "print(species_counts)\n",
        "\n",
        "# Find average petal length by species\n",
        "avg_petal_by_species = ...\n",
        "print(\"\\nAverage petal length by species:\")\n",
        "print(avg_petal_by_species)\n",
        "```\n",
        "\n",
        "**Phase 3: Simple Visualizations (7 minutes)**\n",
        "1. **Create 2-3 basic plots:**\n",
        "   - Histogram of petal length\n",
        "   - Bar chart of flower count by species\n",
        "   - Scatter plot: sepal_length vs sepal_width\n",
        "\n",
        "```python\n",
        "# Create a figure with subplots\n",
        "fig, axes = plt.subplots(2, 2, figsize=(15, 10))\n",
        "\n",
        "# 1. Histogram of petal length\n",
        "axes[0, 0].hist(iris['petal_length'], bins=15, alpha=0.7, edgecolor='black', color='skyblue')\n",
        "axes[0, 0].set_title('Distribution of Petal Length')\n",
        "axes[0, 0].set_xlabel('Petal Length (cm)')\n",
        "axes[0, 0].set_ylabel('Frequency')\n",
        "axes[0, 0].grid(True, alpha=0.3)\n",
        "\n",
        "# 2. Bar chart of flower count by species\n",
        "species_counts = iris['species'].value_counts()\n",
        "species_counts.plot(kind='bar', ax=axes[0, 1], color=['red', 'green', 'blue'])\n",
        "axes[0, 1].set_title('Number of Flowers by Species')\n",
        "axes[0, 1].set_xlabel('Species')\n",
        "axes[0, 1].set_ylabel('Number of Flowers')\n",
        "axes[0, 1].tick_params(axis='x', rotation=45)\n",
        "axes[0, 1].grid(True, alpha=0.3)\n",
        "\n",
        "# 3. Scatter plot: sepal_length vs sepal_width\n",
        "for species in iris['species'].unique():\n",
        "    data = iris[iris['species'] == species]\n",
        "    axes[1, 0].scatter(data['sepal_length'], data['sepal_width'], \n",
        "                      alpha=0.7, label=species, s=50)\n",
        "axes[1, 0].set_title('Sepal Length vs Sepal Width (by Species)')\n",
        "axes[1, 0].set_xlabel('Sepal Length (cm)')\n",
        "axes[1, 0].set_ylabel('Sepal Width (cm)')\n",
        "axes[1, 0].legend()\n",
        "axes[1, 0].grid(True, alpha=0.3)\n",
        "\n",
        "# 4. Bar chart of size categories (if size_category column exists)\n",
        "if 'size_category' in iris.columns:\n",
        "    size_categories = iris['size_category'].value_counts()\n",
        "    size_categories.plot(kind='bar', ax=axes[1, 1], color=['orange', 'lightgreen', 'lightcoral'])\n",
        "    axes[1, 1].set_title('Flowers by Size Category')\n",
        "    axes[1, 1].set_xlabel('Size Category')\n",
        "    axes[1, 1].set_ylabel('Number of Flowers')\n",
        "    axes[1, 1].tick_params(axis='x', rotation=0)\n",
        "    axes[1, 1].grid(True, alpha=0.3)\n",
        "else:\n",
        "    # Alternative: petal length vs petal width scatter\n",
        "    axes[1, 1].scatter(iris['petal_length'], iris['petal_width'], alpha=0.7, s=50)\n",
        "    axes[1, 1].set_title('Petal Length vs Petal Width')\n",
        "    axes[1, 1].set_xlabel('Petal Length (cm)')\n",
        "    axes[1, 1].set_ylabel('Petal Width (cm)')\n",
        "    axes[1, 1].grid(True, alpha=0.3)\n",
        "\n",
        "plt.tight_layout()\n",
        "plt.show()\n",
        "```\n",
        "\n",
        "**Upon Completion:**\n",
        "\n",
        "Execute all the cells, save and download the notebook and submit to Gradescope.\n",
        "\n",
        "# Recap\n",
        "\n",
        "In this section we got a first glimpse of the Pandas library.\n",
        "\n",
        "We learned how to:\n",
        "\n",
        "* load data from a CSV file\n",
        "* inspect the data\n",
        "* manipulate the data\n",
        "* plot the data\n",
        "* access rows and columns of the dataframe\n",
        "* filter the data\n",
        "* create new columns\n",
        "* group the data\n"
      ]
    }
  ],
  "metadata": {
    "kernelspec": {
      "name": "python3",
      "language": "python",
      "display_name": "Python 3 (ipykernel)",
      "path": "/Users/tgardos/Source/courses/ds701/DS701-Course-Notes/.venv/share/jupyter/kernels/python3"
    }
  },
  "nbformat": 4,
  "nbformat_minor": 4
}