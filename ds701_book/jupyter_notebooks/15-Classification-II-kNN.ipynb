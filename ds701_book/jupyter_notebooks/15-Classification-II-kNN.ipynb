{
  "cells": [
    {
      "cell_type": "markdown",
      "metadata": {},
      "source": [
        "---\n",
        "title: $k$-Nearest Neighbors, Curse of Dimensionality, and Model Selection\n",
        "jupyter: python3\n",
        "fig-align: center\n",
        "---\n",
        "\n",
        "## Introduction \n",
        "\n",
        "[![](https://colab.research.google.com/assets/colab-badge.svg)](https://colab.research.google.com/github/tools4ds/DS701-Course-Notes/blob/main/ds701_book/jupyter_notebooks/15-Classification-II-kNN.ipynb)"
      ]
    },
    {
      "cell_type": "code",
      "metadata": {},
      "source": [
        "#| echo: false\n",
        "import numpy as np\n",
        "import scipy as sp\n",
        "import matplotlib.pyplot as plt\n",
        "import pandas as pd\n",
        "import seaborn as sns\n",
        "import matplotlib as mp\n",
        "import sklearn\n",
        "\n",
        "from sklearn.neighbors import KNeighborsClassifier \n",
        "import sklearn.datasets as datasets"
      ],
      "execution_count": null,
      "outputs": []
    },
    {
      "cell_type": "markdown",
      "metadata": {},
      "source": [
        "In this lecture we'll introduce another classification technique, $k$-Nearest Neighbors.\n",
        "\n",
        "First we'll introduce the notion of **parametric** and **nonparametric** models.\n",
        "\n",
        "## Parametric vs. Nonparametric Models\n",
        "\n",
        "There are many ways to define models (whether supervised or unsupervised).\n",
        "\n",
        "However a key distinction is this: \n",
        "\n",
        "* does the model have a _fixed number_ of parameters or \n",
        "* does the number of parameters _grow with the training data_.\n",
        "\n",
        "::: {.incremental}\n",
        "* **Parametric:** If the model has a __fixed number__ of parameters, it is called __parametric.__\n",
        "* **Nonparametric:** If the number of parameters grows with the data, the model is called __nonparametric.__\n",
        ":::\n",
        "\n",
        "---\n",
        "\n",
        "**Parametric models** \n",
        "\n",
        "* have fixed parameters independent of the training data\n",
        "* have the advantage of (often) being faster to use\n",
        "* have the disadvantage of making strong assumptions about the nature of the underlying data distributions.\n",
        "\n",
        "**Nonparametric models**\n",
        "\n",
        "* have parameters that grow with the size of the training data\n",
        "* are more flexible\n",
        "* can be computationally intractable for large datasets\n",
        "\n",
        "\n",
        "## Parametric Models\n",
        "- **Linear Regression**: Assumes a linear relationship between the input variables and the output.\n",
        "- **Logistic Regression**: Used for binary classification problems.\n",
        "- **Polynomial Regression**: Extends linear regression by considering polynomial relationships.\n",
        "- **Support Vector Machines (SVM)**: With a linear kernel.\n",
        "- **Naive Bayes**: Based on Bayes' theorem with strong independence assumptions.\n",
        "- **Generalized Linear Models (GLM)**: Extends linear models to allow for response variables that have error distribution models other than a normal distribution.\n",
        "\n",
        "## Nonparametric Models\n",
        "- **K-Nearest Neighbors (KNN)**: Classifies a data point based on how its neighbors are classified.\n",
        "- **Decision Trees**: Splits the data into subsets based on the value of input features.\n",
        "- **Random Forest**: An ensemble of decision trees.\n",
        "- **Support Vector Machines (SVM)**: With non-linear kernels like RBF."
      ]
    },
    {
      "cell_type": "code",
      "metadata": {},
      "source": [
        "#| echo: false\n",
        "from matplotlib.colors import ListedColormap\n",
        "cmap_light = ListedColormap(['#FFAAAA', '#AAFFAA', '#AAAAFF'])\n",
        "cmap_bold = ListedColormap(['#FF0000', '#00FF00', '#0000FF'])"
      ],
      "execution_count": null,
      "outputs": []
    },
    {
      "cell_type": "markdown",
      "metadata": {},
      "source": [
        "## $k$-Nearest Neighbors\n",
        "\n",
        "> When I see a bird that walks like a duck and swims like a duck and quacks like a duck, I call that bird a duck.\n",
        "\n",
        "--James Whitcomb Riley (1849 - 1916)\n",
        "\n",
        "![](figs/L15-duck.jpg){width=\"100px\"}\n",
        "\n",
        "\n",
        "Like any classifier, $k$-Nearest Neighbors is trained by providing it a set of labeled data.\n",
        "\n",
        "However, at training time, the classifier does very little. It just stores away the training data.\n",
        "\n",
        "## Example: Training Points - 2 Classes"
      ]
    },
    {
      "cell_type": "code",
      "metadata": {},
      "source": [
        "#| fig-align: center\n",
        "plt.figure(figsize=(5, 5))\n",
        "demo_y = [1, 1, 1, 1, 1, 1, 0, 0, 0, 0, 0, 0, 0]\n",
        "demo_X = np.array([[-3,1], [-2, 4], [-2, 2], [-1.5, 1], [-1, 3], [0, 0], [1, 1.5], [2, 0.5], [2, 3], [2, 0], [3, 1], [4, 4], [0, 1]])\n",
        "test_X = [-0.3, 0.7]\n",
        "#\n",
        "plt.scatter(demo_X[:,0], demo_X[:,1], c=demo_y, cmap=cmap_bold, s=80)\n",
        "plt.axis('equal')\n",
        "plt.axis('off')\n",
        "# plt.title('Training Points: 2 Classes')\n",
        "plt.show()"
      ],
      "execution_count": null,
      "outputs": []
    },
    {
      "cell_type": "markdown",
      "metadata": {},
      "source": [
        "--- "
      ]
    },
    {
      "cell_type": "code",
      "metadata": {},
      "source": [
        "#| fig-align: center\n",
        "plt.figure(figsize=(5, 5))\n",
        "plt.scatter(demo_X[:, 0], demo_X[:, 1], c=demo_y, cmap=cmap_bold, s=80)\n",
        "plt.plot(test_X[0], test_X[1], 'ok', markersize=10)\n",
        "plt.annotate('Test Point', test_X, [75, 25], \n",
        "             textcoords = 'offset points', fontsize = 14, \n",
        "             arrowprops = {'arrowstyle': '->'})\n",
        "plt.axis('equal')\n",
        "plt.axis('off')\n",
        "# plt.title('Training Points: 2 Classes')\n",
        "plt.show()"
      ],
      "execution_count": null,
      "outputs": []
    },
    {
      "cell_type": "markdown",
      "metadata": {},
      "source": [
        "At test time, simply \n",
        "\n",
        "* \"look at\" the $k$ points in the training set that are nearest to the test input $x$, and \n",
        "* make a decision based on the labels on those points, e.g. majority vote\n",
        "\n",
        "## 1-Nearest Neighbor"
      ]
    },
    {
      "cell_type": "code",
      "metadata": {},
      "source": [
        "#| fig-align: center\n",
        "plt.figure(figsize=(5, 5))\n",
        "plt.scatter(demo_X[:, 0], demo_X[:, 1], c=demo_y, cmap=cmap_bold, s=80)\n",
        "plt.plot(test_X[0], test_X[1], 'ok', markersize=10)\n",
        "ax=plt.gcf().gca()\n",
        "circle = mp.patches.Circle(test_X, 0.5, facecolor = 'red', alpha = 0.2)\n",
        "plt.axis('equal')\n",
        "plt.axis('off')\n",
        "ax.add_artist(circle)\n",
        "# plt.title('1-Nearest-Neighbor: Classification: Red')\n",
        "plt.show()"
      ],
      "execution_count": null,
      "outputs": []
    },
    {
      "cell_type": "markdown",
      "metadata": {},
      "source": [
        "## 2-Nearest Neighbors"
      ]
    },
    {
      "cell_type": "code",
      "metadata": {},
      "source": [
        "#| fig-align: center\n",
        "plt.figure(figsize=(5, 5))\n",
        "plt.scatter(demo_X[:,0], demo_X[:,1], c=demo_y, cmap=cmap_bold, s=80)\n",
        "test_X = [-0.3, 0.7]\n",
        "plt.plot(test_X[0], test_X[1], 'ok', markersize=10)\n",
        "ax=plt.gcf().gca()\n",
        "circle = mp.patches.Circle(test_X, 0.9, facecolor = 'gray', alpha = 0.3)\n",
        "plt.axis('equal')\n",
        "plt.axis('off')\n",
        "ax.add_artist(circle)\n",
        "# plt.title('2-Nearest-Neighbor')\n",
        "plt.show()"
      ],
      "execution_count": null,
      "outputs": []
    },
    {
      "cell_type": "markdown",
      "metadata": {},
      "source": [
        "## 3-Nearest Neighbors"
      ]
    },
    {
      "cell_type": "code",
      "metadata": {},
      "source": [
        "#| fig-align: center\n",
        "plt.figure(figsize=(5, 5))\n",
        "ax=plt.gcf().gca()\n",
        "circle = mp.patches.Circle(test_X, 1.4, facecolor = 'blue', alpha = 0.2)\n",
        "ax.add_artist(circle)\n",
        "plt.scatter(demo_X[:,0], demo_X[:,1], c=demo_y, cmap=cmap_bold, s=80)\n",
        "test_X = [-0.3, 0.7]\n",
        "plt.plot(test_X[0], test_X[1], 'ok', markersize=10)\n",
        "plt.axis('equal')\n",
        "plt.axis('off')\n",
        "# plt.title('3-Nearest-Neighbor: Classification: Blue')\n",
        "plt.tight_layout()\n",
        "plt.show()"
      ],
      "execution_count": null,
      "outputs": []
    },
    {
      "cell_type": "markdown",
      "metadata": {},
      "source": [
        "## Hard vs. Soft Classification\n",
        "\n",
        "$k$-Nearest Neighbors can do either __hard__ or __soft__ classification.\n",
        "\n",
        "* As a **hard classifier**, it returns the majority vote of the labels on the $k$ Nearest Neighbors.\n",
        "\n",
        "Which may be indeterminate in the case of a tie.\n",
        "\n",
        "::: {.fragment}\n",
        "* As a **soft classifier**, it returns the fraction of points in the neighborhood with label $c$.\n",
        "    \n",
        "$$\n",
        "p(x = c\\,|\\,\\mathbf{x}, k) = \\frac{\\text{number of points in neighborhood with label } c}{k} \n",
        "$$\n",
        "\n",
        ":::\n",
        "\n",
        "## Model Selection for $k$-NN\n",
        "\n",
        "::: {.incremental}\n",
        "* Each value of $k$ results in a different \"model\".\n",
        "\n",
        "* The complexity of the resulting model is therefore controlled by the hyperparameter $k$.\n",
        "\n",
        "* We will want to select $k$ using held-out data to avoid over-fitting.\n",
        ":::\n",
        "\n",
        "## Varying $k$\n",
        "\n",
        "Consider this dataset where items fall into three classes:\n",
        "\n",
        "::: {.columns}\n",
        "::: {.column width=\"50%\"}\n"
      ]
    },
    {
      "cell_type": "code",
      "metadata": {},
      "source": [
        "import sklearn.datasets as sk_data\n",
        "X, y = sk_data.make_blobs(n_samples=150, \n",
        "                          centers=[[-2, 0],[1, 5], [2.5, 1.5]],\n",
        "                          cluster_std = [2, 2, 3],\n",
        "                          n_features=2,\n",
        "                          center_box=(-10.0, 10.0),random_state=0)\n",
        "plt.figure(figsize = (5, 5))\n",
        "plt.axis('equal')\n",
        "plt.axis('off')\n",
        "plt.scatter(X[:, 0], X[:, 1], c = y, cmap = cmap_bold, s = 80)\n",
        "plt.show()"
      ],
      "execution_count": null,
      "outputs": []
    },
    {
      "cell_type": "markdown",
      "metadata": {},
      "source": [
        ":::\n",
        "::: {.column width=\"50%\"}\n",
        "\n",
        "\n",
        "* Let's observe how the complexity of the resulting model changes as we vary $k$.\n",
        "\n",
        "* We'll do this by plotting the __decision regions__.   These show how the method would classify each potential test point in the space.\n",
        "\n",
        ":::\n",
        ":::\n",
        "\n",
        "---"
      ]
    },
    {
      "cell_type": "code",
      "metadata": {},
      "source": [
        "# Plot the decision boundary. For that, we will assign a color to each\n",
        "# point in the mesh [x_min, x_max]x[y_min, y_max].\n",
        "h = .1  # step size in the mesh\n",
        "x_min, x_max = X[:, 0].min() - 1, X[:, 0].max() + 1\n",
        "y_min, y_max = X[:, 1].min() - 1, X[:, 1].max() + 1\n",
        "xx, yy = np.meshgrid(np.arange(x_min, x_max, h),\n",
        "                      np.arange(y_min, y_max, h))"
      ],
      "execution_count": null,
      "outputs": []
    },
    {
      "cell_type": "code",
      "metadata": {},
      "source": [
        "f, axs = plt.subplots(1, 3, figsize=(15, 5))\n",
        "for i, k in enumerate([1, 5, 25]):\n",
        "    knn = KNeighborsClassifier(n_neighbors = k)\n",
        "    knn.fit(X, y)\n",
        "    Z = knn.predict(np.c_[xx.ravel(), yy.ravel()])\n",
        "    Z = Z.reshape(xx.shape)\n",
        "    axs[i].pcolormesh(xx, yy, Z, cmap = cmap_light, shading = 'auto')\n",
        "    axs[i].axis('equal')\n",
        "    axs[i].axis('off')\n",
        "    axs[i].set_title(f'Decision Regions for $k$ = {k}')\n",
        "plt.show()"
      ],
      "execution_count": null,
      "outputs": []
    },
    {
      "cell_type": "markdown",
      "metadata": {},
      "source": [
        "Notice how increasing $k$ results in smoother decision boundaries.\n",
        "\n",
        "These are more likely to show good generalization ability.\n",
        "\n",
        "## Challenges for $k$-NN\n",
        "\n",
        "Working with a $k$-NN classifier can involve some challenges.\n",
        "\n",
        "::: {.incremental}\n",
        "1. The computational cost of classification grows linearly with the size of the training data. Note that the training step is trivial, but the classification step can be prohibitively expensive.\n",
        "\n",
        "2. Euclidean distance is the most common distance function used in $k$-NN so data scaling is important. As previously\n",
        "   [discussed](https://tools4ds.github.io/DS701-Course-Notes/06-Clustering-I-kmeans.html#feature-scales), features\n",
        "   should be scaled to prevent distance measures from being dominated by a potentially small subset of features.\n",
        "\n",
        "3. The __curse of dimensionality.__ If the training data lives in a high dimensional space, Euclidean distance measures become less effective.\n",
        ":::\n",
        "\n",
        "::: {.fragment}\n",
        "This last point is subtle but important, so we will now look at the curse of dimensionality more closely.\n",
        ":::\n",
        "\n",
        "# The Curse of Dimensionality\n",
        "\n",
        "## The Curse of Dimensionality\n",
        "\n",
        ":::: {.columns}\n",
        "::: {.column width=\"40%\"}\n",
        "![](figs/L15-curse-frankenstein-edited.jpeg){width=\"300px\"}\n",
        ":::\n",
        "::: {.column width=\"60%\"}\n",
        "\n",
        "<br><br>\n",
        "The **curse of dimensionality** is a somewhat tongue-in-cheek term for serious problems that arise when we use geometric algorithms in high dimensions.\n",
        ":::\n",
        "::::\n",
        "\n",
        "There are various aspects of the curse that affect $k$-NN.\n",
        "\n",
        "::: aside\n",
        "The phrase `curse of dimensionality' was coined by the mathematician Richard Bellman in 1957 in his book _Dynamic Programming._\n",
        ":::\n",
        "\n",
        "\n",
        "## Points are far apart in high D\n",
        "\n",
        "* $k$-NN relies on there being one or more \"close\" points to the test point $x$.   \n",
        "\n",
        "* In other words, we need the training data to be relatively dense, so there are \"close\" points everywhere.\n",
        "\n",
        "* Unfortunately, the amount of space we work in grows exponentially with the dimension $d$.\n",
        "\n",
        "::: {.content-visible when-profile=\"slides\"}\n",
        "## Points are far apart in high D\n",
        ":::\n",
        "\n",
        "::: {layout-ncol=\"2\"}\n",
        "\n",
        "![10x10 grid with $10^2$ bins](figs/L15-10x10-grid.png){width=\"170px\"}  \n",
        "\n",
        "![10x10x10 grid with $10^3$ bins](figs/L15-10x10x10-grid.png){width=\"170px\"}\n",
        "\n",
        ":::\n",
        "\n",
        "::: {.incremental}\n",
        "* Imagine we have 10,000 (e.g. $10^4$) data points each with 40 features (e.g. $d = 40$).\n",
        "* Consider quantizing each dimension into 10 bins.\n",
        "* So in 40-D we have $10^{40}$ possible bins.\n",
        "* On average, we will only have 1 data point per $10^{36}$ bins. Most will be empty!!\n",
        "* So the amount of data we need to maintain a given density also grows exponentially with dimension $d$.\n",
        ":::\n",
        "\n",
        "\n",
        "::: {.content-visible when-profile=\"slides\"}\n",
        "## Points are far apart in high D\n",
        ":::\n",
        "\n",
        "One very intuitive way to think about it is this.\n",
        "\n",
        ">In order for two points to be close in $\\mathbb{R}^d$, they must be close in __each__ of the $d$ dimensions.\n",
        ">As the number of dimensions grows, it becomes harder and harder for a pair of points to be close in __each__ dimension.\n",
        "\n",
        "## Distances shrink in high dimensions\n",
        "\n",
        "* Contrarily, distances shrink in high dimensions. An example:\n",
        "\n",
        "* Let's generate 1000 normally distributed points in 2D, 3D, 100D, and 1000D and\n",
        "look at the ratio of the largest to smallest distance between points."
      ]
    },
    {
      "cell_type": "code",
      "metadata": {},
      "source": [
        "import numpy as np\n",
        "\n",
        "# Fix the random seed so we all have the same random numbers\n",
        "np.random.seed(0)\n",
        "\n",
        "n_data = 1000\n",
        "\n",
        "# Create 1000 data examples (columns) each with 2 dimensions (rows)\n",
        "n_dim = 2\n",
        "x_2D = np.random.normal(size=(n_data, n_dim))\n",
        "\n",
        "# Create 1000 data examples (columns) each with 3 dimensions (rows)\n",
        "n_dim = 3\n",
        "x_3D = np.random.normal(size=(n_data, n_dim))\n",
        "\n",
        "# Create 1000 data examples (columns) each with 100 dimensions (rows)\n",
        "n_dim = 100\n",
        "x_100D = np.random.normal(size=(n_data, n_dim))\n",
        "\n",
        "# Create 1000 data examples (columns) each with 1000 dimensions (rows)\n",
        "n_dim = 1000\n",
        "x_1000D = np.random.normal(size=(n_data, n_dim))"
      ],
      "execution_count": null,
      "outputs": []
    },
    {
      "cell_type": "markdown",
      "metadata": {},
      "source": [
        "##  Scatter plot of 2D data"
      ]
    },
    {
      "cell_type": "code",
      "metadata": {},
      "source": [
        "#| fig-align: center\n",
        "import matplotlib.pyplot as plt\n",
        "\n",
        "# scatter plot of the 2D data\n",
        "plt.scatter(x_2D[:,0], x_2D[:,1])\n",
        "plt.title('2D data')\n",
        "plt.show()"
      ],
      "execution_count": null,
      "outputs": []
    },
    {
      "cell_type": "markdown",
      "metadata": {},
      "source": [
        "## Scatter plot of 3D data"
      ]
    },
    {
      "cell_type": "code",
      "metadata": {},
      "source": [
        "#| fig-align: center\n",
        "\n",
        "fig = plt.figure()\n",
        "ax = fig.add_subplot(111, projection='3d')\n",
        "ax.scatter(x_3D[:,0], x_3D[:,1], x_3D[:,2])\n",
        "plt.title('3D data')\n",
        "plt.show()"
      ],
      "execution_count": null,
      "outputs": []
    },
    {
      "cell_type": "markdown",
      "metadata": {},
      "source": [
        "## Closest/farthest distance ratios\n",
        "\n",
        "Define a function to calculate the ratio of the largest to smallest distance between points in a dataset."
      ]
    },
    {
      "cell_type": "code",
      "metadata": {},
      "source": [
        "from scipy.spatial import distance\n",
        "def distance_ratio(x, metric='euclidean'):\n",
        "\n",
        "    if metric == 'euclidean':\n",
        "        ord = 2\n",
        "    elif metric == 'manhattan':\n",
        "        ord = 1\n",
        "    elif metric == 'cosine':\n",
        "        pass\n",
        "    else:\n",
        "        raise ValueError(f\"Metric {metric} not supported\")\n",
        "\n",
        "    smallest_dist = np.inf\n",
        "    largest_dist = 0\n",
        "    for i in range(x.shape[0]):\n",
        "        for j in range(i + 1, x.shape[0]): # start from i+1 to avoid redundant calcuations\n",
        "            if i != j:\n",
        "                if metric == 'euclidean' or metric == 'manhattan':\n",
        "                    dist = np.linalg.norm(x[i,:] - x[j,:], ord=ord) \n",
        "                elif metric == 'cosine':\n",
        "                    dist = distance.cosine(x[i,:].flatten(), x[j,:].flatten())\n",
        "            if dist < smallest_dist:\n",
        "              smallest_dist = dist\n",
        "            if dist > largest_dist:\n",
        "              largest_dist = dist\n",
        "\n",
        "    # print(f\"smallest_dist = {smallest_dist}, largest_dist = {largest_dist}\")\n",
        "\n",
        "    # Calculate the ratio and return\n",
        "    dist_ratio = largest_dist / smallest_dist\n",
        "    return dist_ratio"
      ],
      "execution_count": null,
      "outputs": []
    },
    {
      "cell_type": "markdown",
      "metadata": {},
      "source": [
        "And then calculate the Euclidean distance ratio for each dataset."
      ]
    },
    {
      "cell_type": "code",
      "metadata": {},
      "source": [
        "dist_ratio_2d = distance_ratio(x_2D)\n",
        "print('Ratio of largest to smallest distance 2D: %3.3f'%(dist_ratio_2d))\n",
        "\n",
        "dist_ratio_3d = distance_ratio(x_3D)\n",
        "print('Ratio of largest to smallest distance 3D: %3.3f'%(dist_ratio_3d))\n",
        "\n",
        "dist_ratio_100d = distance_ratio(x_100D)\n",
        "print('Ratio of largest to smallest distance 100D: %3.3f'%(dist_ratio_100d))\n",
        "\n",
        "dist_ratio_1000d = distance_ratio(x_1000D)\n",
        "print('Ratio of largest to smallest distance 1000D: %3.3f'%(dist_ratio_1000d))"
      ],
      "execution_count": null,
      "outputs": []
    },
    {
      "cell_type": "markdown",
      "metadata": {},
      "source": [
        "## Manhattan distance ratio"
      ]
    },
    {
      "cell_type": "code",
      "metadata": {},
      "source": [
        "dist_ratio_2d_manhattan = distance_ratio(x_2D, metric='manhattan')\n",
        "print('Ratio of largest to smallest distance 2D (Manhattan): %3.3f'%(dist_ratio_2d_manhattan))\n",
        "\n",
        "dist_ratio_3d_manhattan = distance_ratio(x_3D, metric='manhattan')\n",
        "print('Ratio of largest to smallest distance 3D (Manhattan): %3.3f'%(dist_ratio_3d_manhattan))\n",
        "\n",
        "dist_ratio_100d_manhattan = distance_ratio(x_100D, metric='manhattan')\n",
        "print('Ratio of largest to smallest distance 100D (Manhattan): %3.3f'%(dist_ratio_100d_manhattan))\n",
        "\n",
        "dist_ratio_1000d_manhattan = distance_ratio(x_1000D, metric='manhattan')\n",
        "print('Ratio of largest to smallest distance 1000D (Manhattan): %3.3f'%(dist_ratio_1000d_manhattan))"
      ],
      "execution_count": null,
      "outputs": []
    },
    {
      "cell_type": "markdown",
      "metadata": {},
      "source": [
        "## Cosine distance ratio"
      ]
    },
    {
      "cell_type": "code",
      "metadata": {},
      "source": [
        "dist_ratio_2d_cosine = distance_ratio(x_2D, metric='cosine')\n",
        "print('Ratio of largest to smallest distance 2D (Cosine): %3.3f'%(dist_ratio_2d_cosine))\n",
        "\n",
        "dist_ratio_3d_cosine = distance_ratio(x_3D, metric='cosine')\n",
        "print('Ratio of largest to smallest distance 3D (Cosine): %3.3f'%(dist_ratio_3d_cosine))\n",
        "\n",
        "dist_ratio_100d_cosine = distance_ratio(x_100D, metric='cosine')\n",
        "print('Ratio of largest to smallest distance 100D (Cosine): %3.3f'%(dist_ratio_100d_cosine))\n",
        "\n",
        "dist_ratio_1000d_cosine = distance_ratio(x_1000D, metric='cosine')\n",
        "print('Ratio of largest to smallest distance 1000D (Cosine): %3.3f'%(dist_ratio_1000d_cosine))"
      ],
      "execution_count": null,
      "outputs": []
    },
    {
      "cell_type": "markdown",
      "metadata": {},
      "source": [
        "## Euclidean distance ratios"
      ]
    },
    {
      "cell_type": "code",
      "metadata": {},
      "source": [
        "#| fig-align: center\n",
        "plt.figure(figsize=(8, 5))\n",
        "plt.scatter([2,3,100,1000], [dist_ratio_2d, dist_ratio_3d, dist_ratio_100d, dist_ratio_1000d])\n",
        "plt.plot([2,3,100,1000], [dist_ratio_2d, dist_ratio_3d, dist_ratio_100d, dist_ratio_1000d], '--', color='lightgray')\n",
        "plt.xscale('log')\n",
        "plt.title('Euclidean Distance ratio')\n",
        "plt.xlabel('Dimension')\n",
        "plt.ylabel('Distance ratio')\n",
        "plt.show()"
      ],
      "execution_count": null,
      "outputs": []
    },
    {
      "cell_type": "markdown",
      "metadata": {},
      "source": [
        "You see that the ratio of the largest to smallest distance drops dramatically as the dimension increases.\n",
        "\n",
        "## Compare distance ratios\n",
        "\n",
        "Let's compare the distance ratios for the Euclidean, Manhattan, and Cosine metrics in 100d and 1000d all in the same plot."
      ]
    },
    {
      "cell_type": "code",
      "metadata": {},
      "source": [
        "#| fig-align: center\n",
        "plt.figure(figsize=(8, 5))\n",
        "plt.scatter([100, 1000], [dist_ratio_100d, dist_ratio_1000d], color='blue', s=80, label='Euclidean')\n",
        "plt.scatter([100, 1000], [dist_ratio_100d_manhattan, dist_ratio_1000d_manhattan], color='red', s=80, label='Manhattan')\n",
        "plt.scatter([100, 1000], [dist_ratio_100d_cosine, dist_ratio_1000d_cosine], color='green', s=80, label='Cosine')\n",
        "plt.xscale('log')\n",
        "plt.title('Distance ratio for different metrics')\n",
        "plt.xlabel('Dimension')\n",
        "plt.ylabel('Distance ratio')\n",
        "plt.legend()\n",
        "plt.show()"
      ],
      "execution_count": null,
      "outputs": []
    },
    {
      "cell_type": "markdown",
      "metadata": {},
      "source": [
        "## Volume of a hypersphere\n",
        "\n",
        "The above phenomenon is related to the strange phenomenon of the volume of a\n",
        "hypersphere (or n-ball) in increasing dimensions.\n",
        "\n",
        "::: aside\n",
        "For a fascinating exploration of the properties of unit spheres in high dimension,\n",
        "see [An Adventure in the Nth Dimension](https://www.americanscientist.org/article/an-adventure-in-the-nth-dimension) \n",
        "by Brian Hayes in _American Scientist._\n",
        ":::\n",
        "\n",
        "Now, the volume of a _hypersphere_ in 2D and 3D is:\n",
        "\n",
        "* For $d = 2$, $\\pi r^2$,  which is $\\pi$ for a unit radius.\n",
        "* For $d = 3$, $\\frac{4\\pi}{3} r^3$, which is $\\frac{4}{3} \\pi$ for a unit radius.\n",
        "\n",
        "The [general equation](https://en.wikipedia.org/wiki/Volume_of_an_n-ball#Formulas)\n",
        "for a hypersphere of radius $R$ in $d$ dimensions is:\n",
        "\n",
        "$$\n",
        "V_d(R) = \\frac{\\pi^{d/2}}{\\Gamma\\bigl(\\tfrac d2 + 1\\bigr)}R^d,\n",
        "$$\n",
        "\n",
        "where $\\Gamma$  is Euler's gamma function and simplifies to $\\Gamma(d) = (d - 1)!$ for all positive integers $d$ and has a compact representation for postive half integers.\n",
        "\n",
        "## Hypersphere volume in increasing dimensions\n",
        "\n",
        "Here's a function to calculate the volume of a hypersphere of a given radius and dimension."
      ]
    },
    {
      "cell_type": "code",
      "metadata": {},
      "source": [
        "import scipy.special as sci\n",
        "\n",
        "def volume_of_hypersphere(radius, dimensions):\n",
        "    pi = np.pi\n",
        "    volume = (pi ** (dimensions / 2)) / (sci.gamma(dimensions / 2 + 1)) * (radius ** dimensions)\n",
        "    return volume"
      ],
      "execution_count": null,
      "outputs": []
    },
    {
      "cell_type": "markdown",
      "metadata": {},
      "source": [
        "And now let's calculate the volume of a hypersphere of unit radius for dimensions 1 to 20 and store it in a list."
      ]
    },
    {
      "cell_type": "code",
      "metadata": {},
      "source": [
        "radius = 1.0\n",
        "vols = []\n",
        "for c_dim in range(1,21):\n",
        "  vols.append(volume_of_hypersphere(radius, c_dim))\n",
        "  print(f\" {c_dim}: {volume_of_hypersphere(radius, c_dim):.1f}\", end=', ')"
      ],
      "execution_count": null,
      "outputs": []
    },
    {
      "cell_type": "markdown",
      "metadata": {},
      "source": [
        "## Plot volumes of hyperspheres\n",
        "\n",
        "And plot the results."
      ]
    },
    {
      "cell_type": "code",
      "metadata": {},
      "source": [
        "# plot vols\n",
        "plt.scatter(range(1,21), vols)\n",
        "plt.xlabel('Dimensions')\n",
        "plt.ylabel('Volume')\n",
        "plt.title('Volume of unit radius hypersphere')\n",
        "plt.show()"
      ],
      "execution_count": null,
      "outputs": []
    },
    {
      "cell_type": "markdown",
      "metadata": {},
      "source": [
        "The volume decreases to almost nothing in high dimensions.  \n",
        "\n",
        "## Ratio of unit hypersphere volume and enclosing hypercube volume\n",
        "\n",
        "Another strange phenomenon to think about is via another example.\n",
        "\n",
        "Assume you have data _uniformly_ distributed in a hypercube with side length 2 which will exactly fit a unit hypersphere.\n",
        "\n",
        "![](figs/L15-circle-in-square.png){fig-align=\"center\"}\n",
        "\n",
        "As the dimension grows, we want to know what fraction of the data is within unit distance of the center."
      ]
    },
    {
      "cell_type": "code",
      "metadata": {},
      "source": [
        "side_length = 2\n",
        "cube_volumes = [(lambda side, dim: side ** dim)(side_length, dim) for dim in range(1, 21)]\n",
        "\n",
        "vol_ratios = [vols[i] / cube_volumes[i] for i in range(len(vols))]"
      ],
      "execution_count": null,
      "outputs": []
    },
    {
      "cell_type": "markdown",
      "metadata": {},
      "source": [
        "## Plot volume ratios"
      ]
    },
    {
      "cell_type": "code",
      "metadata": {},
      "source": [
        "plt.scatter(range(1,21), vol_ratios)\n",
        "plt.xlabel('Dimensions')\n",
        "plt.ylabel('Volume ratio')\n",
        "plt.title('Volume of unit radius hypersphere / Volume of enclosing hypercube')\n",
        "plt.show()"
      ],
      "execution_count": null,
      "outputs": []
    },
    {
      "cell_type": "markdown",
      "metadata": {},
      "source": [
        "The fraction quickly goes to zero as the dimension increases.\n",
        "\n",
        "Perhaps an intuition is to think about the space in the \"corners\" of the hypercube.\n",
        "As the dimension grows, there are more corners.\n",
        "\n",
        "## Proportion of hypersphere in outer shell\n",
        "\n",
        "Another strange thing about high dimensions is that most of the volume of a hypersphere is in the outer shell.\n",
        "\n",
        "We can compare the volumes of hyperspheres of radius $1$ and $1-\\epsilon$ for a small $\\epsilon$."
      ]
    },
    {
      "cell_type": "code",
      "metadata": {},
      "source": [
        "#| fig-align: center\n",
        "ax = plt.figure(figsize = (4, 4)).add_subplot(projection = '3d')\n",
        "# coordinates of sphere surface\n",
        "u, v = np.mgrid[0:2*np.pi:50j, 0:np.pi:50j]\n",
        "x = np.cos(u)*np.sin(v)\n",
        "y = np.sin(u)*np.sin(v)\n",
        "z = np.cos(v)\n",
        "#\n",
        "ax.plot_surface(x, y, z, color='r', alpha = 0.2)\n",
        "s3 = 1/np.sqrt(3)\n",
        "ax.quiver(0, 0, 0, s3, s3, s3, color = 'b')\n",
        "ax.text(s3/2, s3/2, s3/2-0.2, '1', size = 14)\n",
        "#\n",
        "eps = 0.9\n",
        "#\n",
        "ax.plot_surface(eps * x, eps * y, eps * z, color='b', alpha = 0.2)\n",
        "ax.quiver(0, 0, 0, eps, 0, 0, color = 'k')\n",
        "ax.text(1/2-0.2, 0, -0.4, r'$1-\\epsilon$', size = 14)\n",
        "ax.set_axis_off()\n",
        "plt.title('Inner and Outer Hyperspheres')\n",
        "plt.show()"
      ],
      "execution_count": null,
      "outputs": []
    },
    {
      "cell_type": "markdown",
      "metadata": {},
      "source": [
        "## Proportion of volume in outer shell\n",
        "\n",
        "Let's create a function to calculate the proportion of the volume of a hypersphere that is in the outer $\\epsilon$ of the radius."
      ]
    },
    {
      "cell_type": "code",
      "metadata": {},
      "source": [
        "def get_prop_of_volume_in_outer_epsilon(dimension, epsilon):\n",
        "  \n",
        "  outer_radius = 1.0\n",
        "  outer_volume = volume_of_hypersphere(outer_radius, dimension)\n",
        "\n",
        "  inner_radius = 1 - epsilon\n",
        "  inner_volume = volume_of_hypersphere(inner_radius, dimension)\n",
        "  proportion = (outer_volume - inner_volume) / outer_volume\n",
        "\n",
        "  # print(f\"Outer volume: {outer_volume}, Inner volume: {inner_volume}\")\n",
        "  return proportion"
      ],
      "execution_count": null,
      "outputs": []
    },
    {
      "cell_type": "markdown",
      "metadata": {},
      "source": [
        "Let's calculate the proportion of the volume in the outer 1% of the radius for dimensions 1 to 300."
      ]
    },
    {
      "cell_type": "code",
      "metadata": {},
      "source": [
        "propvols = []\n",
        "for c_dim in [1,2,10,20,50,100,150,200,250,300]:\n",
        "  propvols.append(get_prop_of_volume_in_outer_epsilon(c_dim, 0.01))\n",
        "  print('Proportion of volume in outer 1 percent of radius in %d dimensions =%3.3f'%(c_dim, get_prop_of_volume_in_outer_epsilon(c_dim, 0.01)))"
      ],
      "execution_count": null,
      "outputs": []
    },
    {
      "cell_type": "markdown",
      "metadata": {},
      "source": [
        "## Plot outer shell proportion"
      ]
    },
    {
      "cell_type": "code",
      "metadata": {},
      "source": [
        "# plot propvols\n",
        "plt.scatter([1,2,10,20,50,100,150,200,250,300], propvols)\n",
        "plt.xlabel('Dimensions')\n",
        "plt.ylabel('Proportion of volume in outer 1%')\n",
        "plt.title('Proportion of volume in outer 1% of diameter of hypersphere')\n",
        "plt.show()"
      ],
      "execution_count": null,
      "outputs": []
    },
    {
      "cell_type": "markdown",
      "metadata": {},
      "source": [
        "By the time we get to 300 dimensions most of the volume is in the outer 1 percent.\n",
        "\n",
        "## Fraction of points in outer shell\n",
        "\n",
        "What is the fraction $f_d$ of all the points that are within a unit distance, but __not__ within a distance of $1-\\epsilon$?\n",
        "\n",
        "Let\n",
        "\n",
        "$$\n",
        "K_d = \\frac{\\pi^{d/2}}{\\Gamma\\bigl(\\tfrac d2 + 1\\bigr)}\n",
        "$$\n",
        "\n",
        "so that the volume of a hypersphere of radius $R$ is $K_d \\times R^d$.\n",
        "\n",
        "---\n",
        "\n",
        "Then for $R=1$ and $R=1-\\epsilon$ we have:\n",
        "\n",
        "$$ \n",
        "\\begin{align*}\n",
        "f_d &= \\frac{\\text{Volume of Shell}}{\\text{Volume of unit hypersphere}} \\\\\n",
        "&= \\frac{K_d\\times(1)^d - K_d\\times(1-\\epsilon)^d}{K_d\\times(1)^d} \\\\\n",
        "&= 1 - (1-\\epsilon)^d\n",
        "\\end{align*}\n",
        "$$\n",
        "\n",
        ":::: {.fragment}\n",
        "Observe that $(1-\\epsilon)^d$ goes to 0 as $d \\rightarrow \\infty$ and $f_d\\rightarrow 1$ as $d \\rightarrow \\infty$.\n",
        "\n",
        "This means that as $d\\rightarrow \\infty$, all of the points that are __within__ 1 unit of our location, are almost __exactly__ 1 unit from our location. \n",
        "::::\n",
        "\n",
        "\n",
        "## Curse of Dimensionality Example\n",
        "\n",
        "::: aside\n",
        "The following example is based on _Data Science from Scratch,_ Joel Grus, Second Edition, Chapter 12.  \n",
        ":::\n",
        "\n",
        "Here's another example.\n",
        "\n",
        "We create 100 points, scattered at random within a $d$-dimensional space.\n",
        "\n",
        "We will look at two quantities as we vary $d$.\n",
        "\n",
        "* The __minimum__ distance between any two points.\n",
        "* The __average__ distance between any two points.\n",
        "\n",
        "---"
      ]
    },
    {
      "cell_type": "code",
      "metadata": {},
      "source": [
        "import sklearn.metrics as metrics\n",
        "\n",
        "nsamples = 1000\n",
        "unif_X = np.random.default_rng().uniform(0, 1, nsamples).reshape(-1, 1)\n",
        "euclidean_dists = metrics.euclidean_distances(unif_X)\n",
        "# extract the values above the diagonal\n",
        "dists = euclidean_dists[np.triu_indices(nsamples, 1)]\n",
        "mean_dists = [np.mean(dists)]\n",
        "min_dists = [np.min(dists)]\n",
        "for d in range(2, 101):\n",
        "    unif_X = np.column_stack([unif_X, np.random.default_rng().uniform(0, 1, nsamples)])\n",
        "    euclidean_dists = metrics.euclidean_distances(unif_X)\n",
        "    dists = euclidean_dists[np.triu_indices(nsamples, 1)]\n",
        "    mean_dists.append(np.mean(dists))\n",
        "    min_dists.append(np.min(dists))"
      ],
      "execution_count": null,
      "outputs": []
    },
    {
      "cell_type": "code",
      "metadata": {},
      "source": [
        "#| fig-align: center\n",
        "plt.figure(figsize = (6, 3))\n",
        "plt.plot(min_dists, label = \"Minimum Distance\")\n",
        "plt.plot(mean_dists, label = \"Average Distance\")\n",
        "plt.xlabel(r'Number of dimensions ($d$)')\n",
        "plt.ylabel('Distance')\n",
        "plt.legend(loc = 'best')\n",
        "plt.title(f'Comparison of Minimum Versus Average Distance Between {nsamples} Points\\nAs Dimension Grows')\n",
        "plt.show()"
      ],
      "execution_count": null,
      "outputs": []
    },
    {
      "cell_type": "markdown",
      "metadata": {},
      "source": [
        "The average distance between points grows. However we also observe that the minimum distance between points grows at a similar rate.\n",
        "\n",
        "---\n",
        "\n",
        "Let's look at the ratio between the average distance between points and the minimum distance between points."
      ]
    },
    {
      "cell_type": "code",
      "metadata": {},
      "source": [
        "#| fig-align: center\n",
        "plt.figure(figsize = (6, 3))\n",
        "plt.plot([a/b for a, b in zip(min_dists, mean_dists)])\n",
        "plt.xlabel(r'Number of dimensions ($d$)')\n",
        "plt.ylabel('Ratio')\n",
        "plt.title(f'Ratio of Minimum to Average Distance Between {nsamples} Points\\nAs Dimension Grows')\n",
        "plt.show()"
      ],
      "execution_count": null,
      "outputs": []
    },
    {
      "cell_type": "markdown",
      "metadata": {},
      "source": [
        "This shows that, for any test point $x$, the distance to the __closest__ point to $x$, gets closer and closer to the __average__ distance between points.\n",
        "\n",
        "If we used a point at the average distance for classifying $x$ we'd get a very poor classifier.\n",
        "\n",
        "##  Implications of the Curse\n",
        "\n",
        "For $k$-NN, the Curse of Dimensionality means that in high dimensions most points are nearly the same distance from the test point.\n",
        "\n",
        "This makes $k$-NN ineffective. It cannot reliably tell which are the $k$ nearest neighbors and its performance degrades as $d$ increases.\n",
        "\n",
        ":::: {.fragment}\n",
        "__What Can be Done?__\n",
        "::::\n",
        "\n",
        ":::: {.fragment}\n",
        "The problem is that you simply cannot have enough data to do a good job using $k$-NN in high dimensions.\n",
        "::::\n",
        "\n",
        ":::: {.fragment}\n",
        "Alternative approaches to mitigate this issue\n",
        "\n",
        ":::: {.incremental}\n",
        "- Use a different dissimilarity metric\n",
        "    - For example cosine distance behaves a little better, but you will have to decide if it is a good distance function for your problem.\n",
        "- __Reduce__ the dimension of your data.\n",
        "    - We will discuss dimensionality reduction techniques in lectures [SVD I](10-Low-Rank-and-SVD.qmd) and [SVD II](11-Dimensionality-Reduction-SVD-II.qmd).\n",
        "::::\n",
        "::::\n",
        "\n",
        "## More on Model Selection\n",
        "\n",
        "Recall that each value of $k$ provides a different model.\n",
        "\n",
        ":::: {.fragment}\n",
        "To better understand __model selection__, we need a way to evaluate our different models.\n",
        "::::\n",
        "\n",
        ":::: {.fragment}\n",
        "How do we evaluate a classifier?\n",
        "::::\n",
        "\n",
        "# Binary classification\n",
        "\n",
        "In the simple case of a binary classifier, we can call\n",
        "\n",
        "* one class the 'Positive' class or index 1\n",
        "* the other class the 'Negative' class or index 0.\n",
        "\n",
        "The most basic measure of success for a classifier is __accuracy__:\n",
        "\n",
        "* **Accuracy** is the fraction of test points that are correctly classified.\n",
        "\n",
        "::: {.incremental}\n",
        "* Accuracy is important, however it may not convey enough useful information.\n",
        "* For example, let's say we have a dataset showing __class imbalance__, e.g., 90% of the data are the Positive class and 10% are the Negative class.\n",
        "* For this dataset, consider a classifier that always predicts 'Positive'. \n",
        "* Its accuracy is 90%, but it is not an effective classifier.\n",
        " \n",
        "::: \n",
        "\n",
        "## Precision and Recall\n",
        "\n",
        "::: {.columns}\n",
        "::: {.column width=\"50%\"}\n",
        "\n",
        "![](figs/L15-confusion-matrix.png){fig-align=\"center\"}\n",
        "\n",
        ":::\n",
        "::: {.column width=\"50%\"}\n",
        "A better way to measure the classifier's performance is using a Confusion Matrix.\n",
        "\n",
        "Diagonal elements represent successes and off diagonals represent errors.\n",
        "\n",
        ":::\n",
        ":::\n",
        "\n",
        "Using the confusion matrix we can define some more useful measures:\n",
        "\n",
        "* __Recall__ - defined as the fraction of actual positives correctly classified\n",
        "    * TP/(TP + FN)\n",
        "* __Precision__ - defined as the fraction of classified positives correctly classified\n",
        "    * TP/(TP + FP)\n",
        "\n",
        "## Precision and Recall Illustration\n",
        "\n",
        "::: {layout-ncol=\"2\"}\n",
        "\n",
        "![](figs/Precisionrecall.png){width=\"400px\"}\n",
        "\n",
        "![](figs/Precisionrecall2.png)\n",
        "\n",
        ":::\n",
        "\n",
        "<!-- By Walber - Own work, CC BY-SA 4.0, https://commons.wikimedia.org/w/index.php?curid=36926283 -->\n",
        "\n",
        "## Evaluating $k$- Nearest Neighbors\n",
        "\n",
        "::: {.columns}\n",
        "::: {.column width=\"50%\"}\n",
        "\n",
        "First we'll generate some synthetic data to work with."
      ]
    },
    {
      "cell_type": "code",
      "metadata": {},
      "source": [
        "X, y = datasets.make_circles(noise=.1, factor=.5, random_state=1)\n",
        "print('Shape of data: {}'.format(X.shape))\n",
        "print('Unique labels: {}'.format(np.unique(y)))"
      ],
      "execution_count": null,
      "outputs": []
    },
    {
      "cell_type": "markdown",
      "metadata": {},
      "source": [
        ":::\n",
        "::: {.column width=\"50%\"}\n",
        "\n",
        "\n",
        "Here is what the data looks like."
      ]
    },
    {
      "cell_type": "code",
      "metadata": {},
      "source": [
        "#| fig-align: center\n",
        "plt.figure(figsize = (4, 4))\n",
        "plt.prism()  # this sets a nice color map\n",
        "plt.scatter(X[:, 0], X[:, 1], c=y, s = 80)\n",
        "plt.axis('off')\n",
        "plt.axis('equal')\n",
        "plt.show()"
      ],
      "execution_count": null,
      "outputs": []
    },
    {
      "cell_type": "markdown",
      "metadata": {},
      "source": [
        ":::\n",
        ":::\n",
        "\n",
        "---\n",
        "\n",
        "Recall that we always want to test on data separate from our training data.\n",
        "\n",
        "For now, we will do something very simple: take the first 50 examples for training and the rest for testing."
      ]
    },
    {
      "cell_type": "code",
      "metadata": {},
      "source": [
        "#| fig-align: center\n",
        "\n",
        "X_train = X[:50]\n",
        "y_train = y[:50]\n",
        "X_test = X[50:]\n",
        "y_test = y[50:]\n",
        "\n",
        "plt.figure(figsize = (10, 4))\n",
        "plt.subplot(1, 2, 1)\n",
        "plt.scatter(X_train[:, 0], X_train[:, 1], c = y_train, s = 80)\n",
        "plt.axis('equal')\n",
        "plt.axis('off')\n",
        "plt.title('Training Data')\n",
        "\n",
        "plt.subplot(1, 2, 2)\n",
        "plt.scatter(X_test[:, 0], X_test[:, 1], c = y_test, s = 80)\n",
        "plt.title('Test Data')\n",
        "plt.axis('equal')\n",
        "plt.axis('off')\n",
        "plt.show()"
      ],
      "execution_count": null,
      "outputs": []
    },
    {
      "cell_type": "markdown",
      "metadata": {},
      "source": [
        "---\n",
        "\n",
        "For our first example, we will classify the points (in the two classes) using a $k$-NN classifier.\n",
        "\n",
        "We will specify that $k=5$, i.e., we will classify based on the majority vote of the 5 nearest neighbors."
      ]
    },
    {
      "cell_type": "code",
      "metadata": {},
      "source": [
        "k = 5\n",
        "knn5 = KNeighborsClassifier(n_neighbors = k)    "
      ],
      "execution_count": null,
      "outputs": []
    },
    {
      "cell_type": "markdown",
      "metadata": {},
      "source": [
        "As we have seen previously, the `scikit-learn` `fit()` function corresponds to __training__ and the `predict()` function corresponds to __testing.__"
      ]
    },
    {
      "cell_type": "code",
      "metadata": {},
      "source": [
        "knn5.fit(X_train,y_train)\n",
        "print(f'Accuracy on test data: {knn5.score(X_test, y_test)}')"
      ],
      "execution_count": null,
      "outputs": []
    },
    {
      "cell_type": "markdown",
      "metadata": {},
      "source": [
        "Accuracy of 72% sounds good -- but let's dig deeper. \n",
        "\n",
        "## Confusion Matrix\n",
        "\n",
        "We'll call the red points the Positive class and the green points the Negative class.\n",
        "\n",
        "Here is the confusion matrix:"
      ]
    },
    {
      "cell_type": "code",
      "metadata": {},
      "source": [
        "y_pred_test = knn5.predict(X_test)\n",
        "pd.DataFrame(metrics.confusion_matrix(y_test, y_pred_test), \n",
        "             columns = ['Predicted 1', 'Predicted 0'], \n",
        "             index = ['Actual 1', 'Actual 0'])"
      ],
      "execution_count": null,
      "outputs": []
    },
    {
      "cell_type": "markdown",
      "metadata": {},
      "source": [
        "Looks like the classifier is getting all of the Negative class correct, but only achieving accuracy of 50% on the Positive class.\n",
        "\n",
        "That is, its __precision__ is 100%, but its __recall__ is only 50%.\n",
        "\n",
        "Let's visualize the results.\n",
        "\n",
        "---"
      ]
    },
    {
      "cell_type": "code",
      "metadata": {},
      "source": [
        "#| fig-align: center\n",
        "k = 5\n",
        "\n",
        "plt.figure(figsize = (10, 4))\n",
        "plt.subplot(1, 2, 1)\n",
        "\n",
        "plt.scatter(X_train[:, 0], X_train[:, 1], c = y_train, s = 80)\n",
        "plt.axis('equal')\n",
        "plt.title('Training')\n",
        "plt.axis('off')\n",
        "\n",
        "plt.subplot(1, 2, 2)\n",
        "plt.scatter(X_test[:, 0], X_test[:, 1], c = y_pred_test, s = 80)\n",
        "plt.title(f'Testing $k$={k}\\nAccuracy: {knn5.score(X_test, y_test)}')\n",
        "plt.axis('off')\n",
        "plt.axis('equal')\n",
        "plt.show()"
      ],
      "execution_count": null,
      "outputs": []
    },
    {
      "cell_type": "markdown",
      "metadata": {},
      "source": [
        "Indeed, the Positive (red) points in the upper half of the test data are all classified incorrectly. \n",
        "\n",
        "---\n",
        "\n",
        "Let's look at one of the points that the classifier got wrong."
      ]
    },
    {
      "cell_type": "code",
      "metadata": {},
      "source": [
        "#| fig-align: center\n",
        "k=5 \n",
        "test_point = np.argmax(X_test[:, 1])\n",
        "neighbors = knn5.kneighbors([X_test[test_point]])[1]\n",
        "\n",
        "plt.figure(figsize = (10, 4))\n",
        "plt.subplot(1, 2, 1)\n",
        "plt.scatter(X_train[:, 0], X_train[:, 1], c = y_train, s = 80)\n",
        "plt.scatter(X_train[neighbors,0], X_train[neighbors,1],\n",
        "            c = y_train[neighbors], marker='o', \n",
        "            facecolors='none', edgecolors='b', s = 80)\n",
        "radius = np.max(metrics.euclidean_distances(X_test[test_point].reshape(1, -1), X_train[neighbors][0]))\n",
        "ax = plt.gcf().gca()\n",
        "circle = mp.patches.Circle(X_test[test_point], radius, facecolor = 'blue', alpha = 0.2)\n",
        "ax.add_artist(circle)\n",
        "plt.axis('equal')\n",
        "plt.axis('off')\n",
        "plt.tight_layout()\n",
        "plt.title(r'Training')\n",
        "\n",
        "plt.subplot(1, 2, 2)\n",
        "plt.scatter(X_test[:, 0], X_test[:, 1], c = y_pred_test, s = 80)\n",
        "plt.scatter(X_test[test_point, 0], X_test[test_point, 1], marker='o', \n",
        "            facecolors='none', edgecolors='b', s = 80)\n",
        "plt.title('Testing $k$={}\\nAccuracy: {}'.format(k,knn5.score(X_test, y_test)))\n",
        "plt.axis('equal')\n",
        "plt.axis('off')\n",
        "plt.show()"
      ],
      "execution_count": null,
      "outputs": []
    },
    {
      "cell_type": "markdown",
      "metadata": {},
      "source": [
        "--- \n",
        "\n",
        "For comparison purposes, let's try $k$ = 3."
      ]
    },
    {
      "cell_type": "code",
      "metadata": {},
      "source": [
        "#| fig-align: center\n",
        "k = 3\n",
        "knn3 = KNeighborsClassifier(n_neighbors=k)    \n",
        "knn3.fit(X_train,y_train)\n",
        "y_pred_test = knn3.predict(X_test)\n",
        "\n",
        "plt.figure(figsize = (10, 4))\n",
        "plt.subplot(1, 2, 1)\n",
        "plt.scatter(X_train[:, 0], X_train[:, 1], c=y_train, s = 80)\n",
        "plt.axis('equal')\n",
        "plt.axis('off')\n",
        "plt.title(r'Training')\n",
        "\n",
        "plt.subplot(1, 2, 2)\n",
        "plt.scatter(X_test[:, 0], X_test[:, 1], c=y_pred_test, s = 80)\n",
        "plt.title(f'Testing $k$={k}\\nAccuracy: {knn3.score(X_test, y_test)}')\n",
        "plt.axis('off')\n",
        "plt.axis('equal')\n",
        "plt.show()"
      ],
      "execution_count": null,
      "outputs": []
    },
    {
      "cell_type": "markdown",
      "metadata": {},
      "source": [
        "--- \n",
        "\n",
        "And let's look at the same individual point as before."
      ]
    },
    {
      "cell_type": "code",
      "metadata": {},
      "source": [
        "#| fig-align: center\n",
        "k = 3\n",
        "test_point = np.argmax(X_test[:,1])\n",
        "X_test[test_point]\n",
        "neighbors = knn3.kneighbors([X_test[test_point]])[1]\n",
        "\n",
        "plt.figure(figsize = (10, 4))\n",
        "plt.subplot(1, 2, 1)\n",
        "plt.scatter(X_train[:, 0], X_train[:, 1], c=y_train, s = 80)\n",
        "plt.scatter(X_train[neighbors, 0], X_train[neighbors, 1], marker = 'o', \n",
        "            facecolors = 'none', edgecolors = 'b', s = 80)\n",
        "radius = np.max(metrics.euclidean_distances(X_test[test_point].reshape(1, -1), \n",
        "                                            X_train[neighbors][0]))\n",
        "ax = plt.gcf().gca()\n",
        "circle = mp.patches.Circle(X_test[test_point], radius, facecolor = 'blue', alpha = 0.2)\n",
        "ax.add_artist(circle)\n",
        "plt.axis('equal')\n",
        "plt.axis('off')\n",
        "plt.title(r'Training')\n",
        "plt.subplot(1, 2, 2)\n",
        "plt.scatter(X_test[:, 0], X_test[:, 1], c = y_pred_test, s = 80)\n",
        "plt.scatter(X_test[test_point,0], X_test[test_point,1], marker = 'o', \n",
        "            facecolors = 'none', edgecolors = 'b', s = 80)\n",
        "plt.title(f'Testing $k$={k}\\nAccuracy: {knn3.score(X_test, y_test)}')\n",
        "plt.axis('off')\n",
        "plt.axis('equal')\n",
        "plt.show()"
      ],
      "execution_count": null,
      "outputs": []
    },
    {
      "cell_type": "markdown",
      "metadata": {},
      "source": [
        "## Train-Test Splitting\n",
        "\n",
        "So how confident can we be that the test accuracy is 92% in general?\n",
        "\n",
        "What we really need to do is consider __many__ different train/test splits.\n",
        "\n",
        "Thus, the proper way to evaluate generalization ability (accuracy on the test data) is:\n",
        "    \n",
        "1. Form a random train/test split\n",
        "2. Train the classifier on the training split\n",
        "3. Test the classifier on the testing split\n",
        "4. Accumulate statistics\n",
        "5. Repeat from step 1 until enough statistics have been collected.\n",
        "\n",
        "---"
      ]
    },
    {
      "cell_type": "code",
      "metadata": {},
      "source": [
        "import sklearn.model_selection as model_selection\n",
        "\n",
        "nreps = 50\n",
        "kvals = range(1, 10)\n",
        "acc = []\n",
        "np.random.seed(4)\n",
        "for k in kvals:\n",
        "    test_rep = []\n",
        "    train_rep = []\n",
        "    for i in range(nreps):\n",
        "        X_train, X_test, y_train, y_test = model_selection.train_test_split(X, \n",
        "                                                                            y, \n",
        "                                                                            test_size = 0.5)\n",
        "        knn = KNeighborsClassifier(n_neighbors = k)    \n",
        "        knn.fit(X_train, y_train)\n",
        "        train_rep.append(knn.score(X_train, y_train))\n",
        "        test_rep.append(knn.score(X_test, y_test))\n",
        "    acc.append([np.mean(np.array(test_rep)), np.mean(np.array(train_rep))])\n",
        "accy = np.array(acc)"
      ],
      "execution_count": null,
      "outputs": []
    },
    {
      "cell_type": "code",
      "metadata": {},
      "source": [
        "#| fig-align: center\n",
        "plt.plot(kvals, accy[:, 0], '.-', label = 'Accuracy on Test Data')\n",
        "plt.plot(kvals, accy[:, 1], '.-', label = 'Accuracy on Training Data')\n",
        "plt.xlabel(r'$k$')\n",
        "plt.ylabel('Accuracy')\n",
        "plt.title('Train/Test Comparision of $k$-NN')\n",
        "plt.legend(loc = 'best')\n",
        "plt.show()"
      ],
      "execution_count": null,
      "outputs": []
    },
    {
      "cell_type": "markdown",
      "metadata": {},
      "source": [
        "---\n",
        "\n",
        "Based on the generalization error, i.e., accuracy on the held-out test data, it looks like $k = 2$ is the best choice. \n",
        "\n",
        "Here is the __decision boundary__ for $k$-NN with $k = 2$."
      ]
    },
    {
      "cell_type": "code",
      "metadata": {},
      "source": [
        "x_min, x_max = X[:, 0].min() - .1, X[:, 0].max() + .1\n",
        "y_min, y_max = X[:, 1].min() - .1, X[:, 1].max() + .1\n",
        "plot_step = 0.02\n",
        "xx, yy = np.meshgrid(np.arange(x_min, x_max, plot_step),\n",
        "                     np.arange(y_min, y_max, plot_step))"
      ],
      "execution_count": null,
      "outputs": []
    },
    {
      "cell_type": "code",
      "metadata": {},
      "source": [
        "#| fig-align: center\n",
        "np.random.seed(1)\n",
        "X_train, X_test, y_train, y_test = model_selection.train_test_split(X, y, test_size = 0.5)\n",
        "\n",
        "k = 2\n",
        "knn = KNeighborsClassifier(n_neighbors = k)  \n",
        "knn.fit(X_train, y_train)\n",
        "y_pred_train = knn.predict(X_train)\n",
        "y_pred_test = knn.predict(X_test)\n",
        "\n",
        "Z = knn.predict(np.c_[xx.ravel(), yy.ravel()])\n",
        "Z = Z.reshape(xx.shape)\n",
        "\n",
        "plt.figure(figsize = (12, 5))\n",
        "plt.subplot(1, 2, 1)\n",
        "cs = plt.contourf(xx, yy, Z, cmap=plt.cm.Paired, alpha=0.3)\n",
        "plt.scatter(X_train[:, 0], X_train[:, 1], c=y_train, s=30)\n",
        "plt.axis('equal')\n",
        "plt.axis('off')\n",
        "plt.xlim((x_min, x_max))\n",
        "plt.ylim((y_min, y_max))\n",
        "plt.title(f'{k}-NN - Training Data\\nAccuracy: {knn.score(X_train, y_train)}')\n",
        "\n",
        "plt.subplot(1, 2, 2)\n",
        "cs = plt.contourf(xx, yy, Z, cmap=plt.cm.Paired, alpha=0.3)\n",
        "plt.scatter(X_test[:, 0], X_test[:, 1], c=y_test, s=30)\n",
        "plt.axis('equal')\n",
        "plt.axis('off')\n",
        "plt.xlim((x_min, x_max))\n",
        "plt.ylim((y_min, y_max))\n",
        "plt.title(f'{k}-NN - Test Data\\nAccuracy: {knn.score(X_test, y_test)}')\n",
        "plt.show()"
      ],
      "execution_count": null,
      "outputs": []
    },
    {
      "cell_type": "markdown",
      "metadata": {},
      "source": [
        "<!--\n",
        "## Decision Tree\n",
        "\n",
        "Next, we'll use a decision tree on the same data set."
      ]
    },
    {
      "cell_type": "code",
      "metadata": {},
      "source": [
        "import sklearn.tree as tree\n",
        "dtc = tree.DecisionTreeClassifier(max_leaf_nodes = 5)\n",
        "\n",
        "dtc.fit(X_train,y_train)\n",
        "y_pred_test = dtc.predict(X_test)\n",
        "print('DT accuracy on test data: ', dtc.score(X_test, y_test))\n",
        "y_pred_train = dtc.predict(X_train)\n",
        "print('DT accuracy on training data: ', dtc.score(X_train, y_train))"
      ],
      "execution_count": null,
      "outputs": []
    },
    {
      "cell_type": "code",
      "metadata": {},
      "source": [
        "#| fig-align: center\n",
        "plt.figure(figsize = (4, 4))\n",
        "plt.scatter(X_test[:, 0], X_test[:, 1], c=y_pred_test, marker='^', s=80)\n",
        "plt.scatter(X_train[:, 0], X_train[:, 1], c=y_train, s=80)\n",
        "plt.axis('equal')\n",
        "plt.axis('off')\n",
        "plt.title(F'Decision Tree\\n Triangles: Test Data, Circles: Training Data\\nAccuracy: {dtc.score(X_test, y_test)}')\n",
        "plt.show()"
      ],
      "execution_count": null,
      "outputs": []
    },
    {
      "cell_type": "markdown",
      "metadata": {},
      "source": [
        "---\n",
        "\n",
        "Let's visualize the __decision boundary__ of the Decision Tree."
      ]
    },
    {
      "cell_type": "code",
      "metadata": {},
      "source": [
        "#| fig-align: center\n",
        "Z = dtc.predict(np.c_[xx.ravel(), yy.ravel()])\n",
        "Z = Z.reshape(xx.shape)\n",
        "\n",
        "plt.figure(figsize = (10, 4))\n",
        "plt.subplot(1, 2, 1)\n",
        "cs = plt.contourf(xx, yy, Z, cmap=plt.cm.Paired, alpha=0.3)\n",
        "plt.scatter(X_train[:, 0], X_train[:, 1], c = y_train, s = 80)\n",
        "plt.axis('equal')\n",
        "plt.axis('off')\n",
        "plt.xlim((x_min, x_max))\n",
        "plt.ylim((y_min, y_max))\n",
        "plt.title(f'Decision Tree - Training Data\\nAccuracy: {dtc.score(X_train, y_train)}');\n",
        "\n",
        "plt.subplot(1, 2, 2)\n",
        "cs = plt.contourf(xx, yy, Z, cmap=plt.cm.Paired, alpha=0.3)\n",
        "plt.scatter(X_test[:, 0], X_test[:, 1], c = y_pred_test, marker = '^', s = 80)\n",
        "plt.axis('equal')\n",
        "plt.axis('off')\n",
        "plt.xlim((x_min, x_max))\n",
        "plt.ylim((y_min, y_max))\n",
        "plt.title(f'Decision Tree - Test Data\\nAccuracy: {dtc.score(X_test, y_test)}')\n",
        "plt.show()"
      ],
      "execution_count": null,
      "outputs": []
    },
    {
      "cell_type": "markdown",
      "metadata": {},
      "source": [
        "## $k$-NN vs. Decision Tree\n",
        "\n",
        "It appears that $k$-NN and the decision tree have approximately comparable performance on this dataset.\n",
        "\n",
        "However - there is a difference in __interpretability__, which means the ability to __explain__ why the classifier made the decision it did.\n",
        "\n",
        "It can be somewhat difficult to __understand__ why $k$-NN is making a specific prediction. It depends on the data in the neighborhood of the test point.\n",
        "\n",
        "On the other hand, the decision tree is easy to interpret.\n",
        "\n",
        ":::: {.fragment}\n",
        "We sometimes use the terms \"black box\" for an uninterpretable classifier like $k$-NN, and \"white box\" for an interpretable classifier like decision tree.\n",
        "::::\n",
        "\n",
        "---\n",
        "\n",
        "Let's see an example of the interpretability of the decision tree."
      ]
    },
    {
      "cell_type": "code",
      "metadata": {},
      "source": [
        "#| fig-align: center\n",
        "\n",
        "import matplotlib.pyplot as plt\n",
        "import matplotlib.image as mpimg\n",
        "import graphviz\n",
        "\n",
        "# Export the decision tree to DOT format\n",
        "dot_data = tree.export_graphviz(dtc, out_file=None,\n",
        "                                feature_names=['X', 'Y'],\n",
        "                                class_names=['Red', 'Green'],\n",
        "                                filled=True, \n",
        "                                rounded=True,\n",
        "                                special_characters=True)\n",
        "\n",
        "# Use graphviz to create a graph from the DOT data\n",
        "graph = graphviz.Source(dot_data)\n",
        "\n",
        "# Save the graph to a file\n",
        "graph.format = 'png'\n",
        "graph.render(\"figs/decision_tree\")\n",
        "\n",
        "# Read the image file and display it using matplotlib\n",
        "img = mpimg.imread(\"figs/decision_tree.png\")\n",
        "plt.figure(figsize=(4, 12))\n",
        "plt.imshow(img)\n",
        "plt.axis('off')\n",
        "plt.show()"
      ],
      "execution_count": null,
      "outputs": []
    },
    {
      "cell_type": "markdown",
      "metadata": {},
      "source": [
        "-->\n",
        "\n",
        "# Real Data\n",
        "\n",
        "To explore a few more issues, we'll now turn to some famous datasets that have been extensively studied in the past.\n",
        "\n",
        "## The Iris Dataset\n",
        "\n",
        "The Iris dataset is a famous dataset used by Ronald Fisher in a classic 1936 paper on classification.\n",
        "\n",
        "![R. A. Fisher](figs/R._A._Fisher.png){width=\"35%\"}\n",
        "\n",
        "---\n",
        "\n",
        "Quoting from Wikipedia:\n",
        "\n",
        ">The data set consists of 50 samples from each of three species of Iris (Iris setosa, Iris virginica and Iris versicolor). Four features were measured from each sample: the length and the width of the sepals and petals, in centimetres. Based on the combination of these four features, Fisher developed a linear discriminant model to distinguish the species from each other.\n",
        "\n",
        "---\n",
        "\n",
        ":::: {.columns style=\"display: flex; align-items: flex-end\"} \n",
        "::: {.column width=\"33%\"}\n",
        "![I. setosa](figs/Iris_setosa.png)\n",
        ":::\n",
        "::: {.column width=\"33%\"}\n",
        "![I. versicolor](figs/Iris_versicolor.png)\n",
        ":::\n",
        "::: {.column width=\"33%\"}\n",
        "![I. virginica](figs/Iris_virginica.png)\n",
        ":::\n",
        "::::\n",
        "\n",
        "## Load Iris Dataset  "
      ]
    },
    {
      "cell_type": "code",
      "metadata": {},
      "source": [
        "#| code-fold: false\n",
        "iris = datasets.load_iris()\n",
        "X = iris.data\n",
        "y = iris.target\n",
        "ynames = iris.target_names\n",
        "print(X.shape, y.shape)\n",
        "print(X[1, :])\n",
        "print(iris.target_names)\n",
        "print(y)"
      ],
      "execution_count": null,
      "outputs": []
    },
    {
      "cell_type": "markdown",
      "metadata": {},
      "source": [
        "## Hyperparameters: k-NN\n",
        "\n",
        "First, we'll explore setting the hyperparameters. We start with $k$-NN.\n",
        "\n",
        "To set the hyperparameter $k$, we evaluate error on the test set for many train/test splits:"
      ]
    },
    {
      "cell_type": "code",
      "metadata": {},
      "source": [
        "X = iris.data\n",
        "y = iris.target\n",
        "\n",
        "kvals = range(2, 20)\n",
        "nreps = 50\n",
        "\n",
        "acc = []\n",
        "std = []\n",
        "np.random.seed(0)\n",
        "for k in kvals:\n",
        "    test_rep = []\n",
        "    train_rep = []\n",
        "    for i in range(nreps):\n",
        "        X_train, X_test, y_train, y_test = model_selection.train_test_split(\n",
        "            X, y, test_size = 0.33)\n",
        "        knn = KNeighborsClassifier(n_neighbors = k)    \n",
        "        knn.fit(X_train, y_train)\n",
        "        train_rep.append(knn.score(X_train, y_train))\n",
        "        test_rep.append(knn.score(X_test, y_test))\n",
        "    acc.append([np.mean(np.array(test_rep)), np.mean(np.array(train_rep))])\n",
        "    std.append([np.std(np.array(test_rep)), np.std(np.array(train_rep))])"
      ],
      "execution_count": null,
      "outputs": []
    },
    {
      "cell_type": "code",
      "metadata": {},
      "source": [
        "#| fig-align: center\n",
        "plt.figure(figsize= (6, 4))\n",
        "accy = np.array(acc)\n",
        "stds = np.array(std)/np.sqrt(nreps)\n",
        "print(f'Max Test Accuracy at k = {kvals[np.argmax(accy[:, 0])]} with accuracy {np.max(accy[:, 0]):.03f}')\n",
        "plt.plot(kvals, accy[:, 0], '.-', label = 'Accuracy on Test Data')\n",
        "plt.plot(kvals, accy[:, 1], '.-', label = 'Accuracy on Training Data')\n",
        "plt.xlabel('k')\n",
        "plt.ylabel('Accuracy')\n",
        "plt.ylim(0.9, None)\n",
        "plt.xticks(kvals)\n",
        "plt.legend(loc = 'best')\n",
        "plt.show()"
      ],
      "execution_count": null,
      "outputs": []
    },
    {
      "cell_type": "markdown",
      "metadata": {},
      "source": [
        "---\n",
        "\n",
        "It looks like $k$ = 13 is the best-performing value of the hyperparameter.\n",
        "\n",
        ":::: {.fragment}\n",
        "Can we be sure?\n",
        "::::\n",
        "\n",
        ":::: {.fragment}\n",
        "Be careful! Each point in the above plot is the mean of 50 random train/test splits!\n",
        "::::\n",
        "\n",
        ":::: {.fragment}\n",
        "If we are going to be __sure__ that $k$ = 13 is best, then it should be be statistically distinguishable from the other values.\n",
        "::::\n",
        "\n",
        ":::: {.fragment}\n",
        "To make this call, let's plot $\\pm 1 \\sigma$ confidence intervals on the mean values.\n",
        "\n",
        "See the [Probability Refresher](03-Probability-and-Statistics-Refresher.qmd) for details on the proper formula.\n",
        "::::\n",
        "\n",
        "---"
      ]
    },
    {
      "cell_type": "code",
      "metadata": {},
      "source": [
        "#| fig-align: center\n",
        "plt.errorbar(kvals, accy[:, 0], stds[:, 0], label = 'Accuracy on Test Data')\n",
        "plt.xlabel('k')\n",
        "plt.ylabel('Accuracy')\n",
        "plt.legend(loc = 'lower center')\n",
        "plt.xticks(kvals)\n",
        "plt.title(r'Test Accuracy with $\\pm 1\\sigma$ Errorbars')\n",
        "plt.show()"
      ],
      "execution_count": null,
      "outputs": []
    },
    {
      "cell_type": "markdown",
      "metadata": {},
      "source": [
        "--- \n",
        "\n",
        "It looks like $k$ = 13 is a reasonable value, although a case can be made that 9 and 11 are not statistically distinguishable from 13.\n",
        "\n",
        "To gain insight into the complexity of the model for $k$ = 13, let's look at the decision boundary.\n",
        "\n",
        "We will re-run the classifier using only two (of four) features for visualization purposes.\n",
        "\n",
        "---"
      ]
    },
    {
      "cell_type": "code",
      "metadata": {},
      "source": [
        "#| fig-align: center\n",
        "# Create color maps\n",
        "from matplotlib.colors import ListedColormap\n",
        "cmap_light = ListedColormap(['#FFAAAA', '#AAFFAA', '#AAAAFF'])\n",
        "cmap_bold = ListedColormap(['#FF0000', '#00FF00', '#0000FF'])\n",
        "\n",
        "# we will use only the first two (of four) features, so we can visualize\n",
        "X = X_train[:, :2] \n",
        "h = .02  # step size in the mesh\n",
        "k = 13\n",
        "knn = KNeighborsClassifier(n_neighbors=k)\n",
        "knn.fit(X, y_train)\n",
        "# Plot the decision boundary. For that, we will assign a color to each\n",
        "# point in the mesh [x_min, x_max]x[y_min, y_max].\n",
        "x_min, x_max = X[:, 0].min() - 1, X[:, 0].max() + 1\n",
        "y_min, y_max = X[:, 1].min() - 1, X[:, 1].max() + 1\n",
        "xx, yy = np.meshgrid(np.arange(x_min, x_max, h),\n",
        "                      np.arange(y_min, y_max, h))\n",
        "Z = knn.predict(np.c_[xx.ravel(), yy.ravel()])\n",
        "\n",
        "# Put the result into a color plot\n",
        "Z = Z.reshape(xx.shape)\n",
        "plt.figure(figsize=(6, 4))\n",
        "plt.pcolormesh(xx, yy, Z, cmap=cmap_light, shading='auto')\n",
        "\n",
        "# Plot also the training points\n",
        "plt.scatter(X[:, 0], X[:, 1], c=y_train, cmap=cmap_bold)\n",
        "plt.xlim(xx.min(), xx.max())\n",
        "plt.ylim(yy.min(), yy.max())\n",
        "plt.title(f\"3-Class $k$-NN classification ($k$ = {k})\")\n",
        "plt.show()"
      ],
      "execution_count": null,
      "outputs": []
    },
    {
      "cell_type": "markdown",
      "metadata": {},
      "source": [
        "There are a few artifacts, though overall this looks like a reasonably smooth set of decision boundaries.\n",
        "\n",
        "<!--\n",
        "## Hyperparameters: Decision Tree\n",
        "\n",
        "How do we control the complexity of a Decision Tree?\n",
        "\n",
        "There are a variety of ways (see the `sklearn` documentation) but the simplest one is to control the number of leaf nodes in the tree.  \n",
        "\n",
        "A small number of leaf nodes is a low-complexity model, and a large number of nodes is a high-complexity model.\n",
        "\n",
        "---"
      ]
    },
    {
      "cell_type": "code",
      "metadata": {},
      "source": [
        "X = iris.data\n",
        "y = iris.target\n",
        "leaf_vals = range(3, 20)\n",
        "nreps = 50\n",
        "\n",
        "acc = []\n",
        "std = []\n",
        "np.random.seed(0)\n",
        "for leaf_count in leaf_vals:\n",
        "    test_rep = []\n",
        "    train_rep = []\n",
        "    for i in range(nreps):\n",
        "        X_train, X_test, y_train, y_test = model_selection.train_test_split(X, y, test_size = 0.10)\n",
        "        dtc = tree.DecisionTreeClassifier(max_leaf_nodes = leaf_count)   \n",
        "        dtc.fit(X_train, y_train)\n",
        "        train_rep.append(dtc.score(X_train, y_train))\n",
        "        test_rep.append(dtc.score(X_test, y_test))\n",
        "    acc.append([np.mean(np.array(test_rep)), np.mean(np.array(train_rep))])\n",
        "    std.append([np.std(np.array(test_rep)), np.std(np.array(train_rep))])\n",
        "accy = np.array(acc)\n",
        "stds = np.array(std)/np.sqrt(nreps)"
      ],
      "execution_count": null,
      "outputs": []
    },
    {
      "cell_type": "markdown",
      "metadata": {},
      "source": [
        "---"
      ]
    },
    {
      "cell_type": "code",
      "metadata": {},
      "source": [
        "#| fig-align: center\n",
        "plt.plot(leaf_vals, accy[:, 0], '.-', label = 'Accuracy on Test Data')\n",
        "plt.plot(leaf_vals, accy[:, 1], '.-', label = 'Accuracy on Training Data')\n",
        "plt.xlabel('Max Leaf Nodes')\n",
        "plt.ylabel('Accuracy')\n",
        "plt.legend(loc = 'best')\n",
        "plt.xticks(leaf_vals)\n",
        "best_leaf = leaf_vals[np.argmax(accy[:, 0])]\n",
        "plt.title(f'Test/Train Error for Decision Tree\\nMax Test Accuracy at {best_leaf} leaf nodes with accuracy {np.max(accy[:, 0]):.03f}')\n",
        "plt.show()"
      ],
      "execution_count": null,
      "outputs": []
    },
    {
      "cell_type": "markdown",
      "metadata": {},
      "source": [
        "---"
      ]
    },
    {
      "cell_type": "code",
      "metadata": {},
      "source": [
        "#| fig-align: center\n",
        "plt.errorbar(leaf_vals, accy[:, 0], stds[:, 0], label = 'Accuracy on Test Data')\n",
        "plt.xlabel('Max Leaf Nodes')\n",
        "plt.ylabel('Accuracy')\n",
        "plt.legend(loc = 'lower center')\n",
        "plt.xticks(leaf_vals)\n",
        "plt.title(r'Test Accuracy with $\\pm 1\\sigma$ Errorbars')\n",
        "plt.show()"
      ],
      "execution_count": null,
      "outputs": []
    },
    {
      "cell_type": "markdown",
      "metadata": {},
      "source": [
        "It looks like 9 leaf nodes is appropriate, but we would be justified to choose 4 or 13 as well.\n",
        "\n",
        "---\n",
        "\n",
        "Here we visualize the decision boundary for the DT:"
      ]
    },
    {
      "cell_type": "code",
      "metadata": {},
      "source": [
        "#| fig-align: center\n",
        "# we will use only the first two (of four) features, so we can visualize\n",
        "X = X_train[:, :2] \n",
        "h = .02  # step size in the mesh\n",
        "dtc = tree.DecisionTreeClassifier(max_leaf_nodes = best_leaf) \n",
        "dtc.fit(X, y_train)\n",
        "# Plot the decision boundary. For that, we will assign a color to each\n",
        "# point in the mesh [x_min, x_max]x[y_min, y_max].\n",
        "x_min, x_max = X[:, 0].min() - 1, X[:, 0].max() + 1\n",
        "y_min, y_max = X[:, 1].min() - 1, X[:, 1].max() + 1\n",
        "xx, yy = np.meshgrid(np.arange(x_min, x_max, h),\n",
        "                      np.arange(y_min, y_max, h))\n",
        "Z = dtc.predict(np.c_[xx.ravel(), yy.ravel()])\n",
        "\n",
        "# Put the result into a color plot\n",
        "Z = Z.reshape(xx.shape)\n",
        "plt.figure()\n",
        "plt.pcolormesh(xx, yy, Z, cmap=cmap_light, shading='auto')\n",
        "\n",
        "# Plot also the training points\n",
        "plt.scatter(X[:, 0], X[:, 1], c=y_train, cmap=cmap_bold)\n",
        "plt.xlim(xx.min(), xx.max())\n",
        "plt.ylim(yy.min(), yy.max())\n",
        "plt.title(f\"3-Class DT Classification\\n{best_leaf} leaf nodes\")\n",
        "plt.show()"
      ],
      "execution_count": null,
      "outputs": []
    },
    {
      "cell_type": "markdown",
      "metadata": {},
      "source": [
        "-->\n",
        "\n",
        "## MNIST dataset\n",
        "\n",
        "NIST used to be called the \"National Bureau of Standards.\" These are the folks who bring you the reference meter, reference kilogram, etc.\n",
        "\n",
        "NIST constructed datasets for machine learning of handwritten digits. These were collected from Census Bureau employees and also from high-school students.\n",
        "\n",
        "This dataset has been used repeatedly for many years to evaluate classifiers. For a peek at some of the work done with this dataset you can visit this [link](http://yann.lecun.com/exdb/mnist/). \n",
        "\n",
        "\n",
        "## MNIST Digits"
      ]
    },
    {
      "cell_type": "code",
      "metadata": {},
      "source": [
        "import sklearn.utils as utils\n",
        "\n",
        "digits = datasets.load_digits()\n",
        "X, y = utils.shuffle(digits.data, digits.target, random_state = 1)\n",
        "\n",
        "print ('Data shape: {}'.format(X.shape))\n",
        "print ('Data labels: {}'.format(y))\n",
        "print ('Unique labels: {}'.format(digits.target_names))"
      ],
      "execution_count": null,
      "outputs": []
    },
    {
      "cell_type": "markdown",
      "metadata": {},
      "source": [
        "An individual item is an $8 \\times 8$ image, encoded as a matrix:"
      ]
    },
    {
      "cell_type": "code",
      "metadata": {},
      "source": [
        "digits.images[3]"
      ],
      "execution_count": null,
      "outputs": []
    },
    {
      "cell_type": "markdown",
      "metadata": {},
      "source": [
        "--- \n",
        "\n",
        "Here we show the matrix as an image."
      ]
    },
    {
      "cell_type": "code",
      "metadata": {},
      "source": [
        "#| fig-align: center\n",
        "fig, ax = plt.subplots()\n",
        "ax.matshow(digits.images[3], cmap='gray_r')\n",
        "plt.show()"
      ],
      "execution_count": null,
      "outputs": []
    },
    {
      "cell_type": "markdown",
      "metadata": {},
      "source": [
        "---\n",
        "\n",
        "It is easier to visualize if we blur the pixels a little bit."
      ]
    },
    {
      "cell_type": "code",
      "metadata": {},
      "source": [
        "#| fig-align: center\n",
        "plt.rc('image', cmap = 'binary', interpolation = 'bilinear')\n",
        "plt.figure(figsize = (5, 5))\n",
        "plt.axis('off')\n",
        "plt.imshow(digits.images[3])\n",
        "plt.show()"
      ],
      "execution_count": null,
      "outputs": []
    },
    {
      "cell_type": "markdown",
      "metadata": {},
      "source": [
        "---\n",
        "\n",
        "Here are some more samples from the dataset."
      ]
    },
    {
      "cell_type": "code",
      "metadata": {},
      "source": [
        "#| fig-align: center\n",
        "for t in range(3):\n",
        "    plt.figure(figsize = (8, 2))\n",
        "    for j in range(4):\n",
        "        plt.subplot(1, 4, 1 + j)\n",
        "        plt.imshow(X[4*t + j].reshape(8, 8))\n",
        "        plt.axis('off')\n",
        "plt.show()"
      ],
      "execution_count": null,
      "outputs": []
    },
    {
      "cell_type": "markdown",
      "metadata": {},
      "source": [
        "--- \n",
        "\n",
        "Although this is an 8 $\\times$ 8 image, we can reshape it to a vector of length 64.\n",
        "\n",
        "To do model selection, we will again average over many train/test splits.\n",
        "\n",
        "However, since the performance of $k$-NN degrades on large sets of data we may decide to limit the size of our testing set to speed up testing.\n",
        "\n",
        ":::: {.fragment}\n",
        "How does the train/test split affect results?\n",
        "::::\n",
        "\n",
        ":::: {.fragment}\n",
        "Let's consider two cases:  \n",
        "\n",
        ":::: {.incremental}\n",
        "1. Train: 90% of data, Test: 10% of data\n",
        "2. Train: 67% of data, Test: 33% of data\n",
        "::::\n",
        "::::\n",
        "\n",
        "---"
      ]
    },
    {
      "cell_type": "code",
      "metadata": {},
      "source": [
        "def test_knn(kvals, test_fraction, nreps):\n",
        "    acc = []\n",
        "    std = []\n",
        "    np.random.seed(0)\n",
        "    #\n",
        "    for k in kvals:\n",
        "        test_rep = []\n",
        "        train_rep = []\n",
        "        for i in range(nreps):\n",
        "            X_train, X_test, y_train, y_test = model_selection.train_test_split(\n",
        "                X, y, test_size = test_fraction)\n",
        "            knn = KNeighborsClassifier(n_neighbors = k)    \n",
        "            knn.fit(X_train, y_train)\n",
        "            test_rep.append(knn.score(X_test, y_test))\n",
        "        acc.append(np.mean(np.array(test_rep)))\n",
        "        std.append(np.std(np.array(test_rep)))\n",
        "    return(np.array(acc), np.array(std)/np.sqrt(nreps))\n",
        "\n",
        "test_fraction1 = 0.33\n",
        "accy1, stds1 = test_knn(range(2, 20), test_fraction1, 50)\n",
        "test_fraction2 = 0.10\n",
        "accy2, stds2 = test_knn(range(2, 20), test_fraction2, 50)"
      ],
      "execution_count": null,
      "outputs": []
    },
    {
      "cell_type": "code",
      "metadata": {},
      "source": [
        "#| fig-align: center\n",
        "plt.figure(figsize = (6, 4))\n",
        "plt.errorbar(kvals, accy1, stds1, \n",
        "             label = f'{test_fraction1:.0%} Used for Testing; accuracy {np.max(accy1):.03f}')\n",
        "plt.errorbar(kvals, accy2, stds2, \n",
        "             label = f'{test_fraction2:.0%} Used for Testing; accuracy {np.max(accy2):.03f}')\n",
        "plt.xlabel('k')\n",
        "plt.ylabel('Accuracy')\n",
        "plt.legend(loc = 'best')\n",
        "plt.xticks(kvals)\n",
        "best_k = kvals[np.argmax(accy1)]\n",
        "plt.title(f'Test Accuracy with $\\\\pm 1\\\\sigma$ Error Bars')\n",
        "plt.show()"
      ],
      "execution_count": null,
      "outputs": []
    },
    {
      "cell_type": "markdown",
      "metadata": {},
      "source": [
        "---\n",
        "\n",
        "These plots illustrate show two important principles.\n",
        "    \n",
        "* With more training data the classifier performs better.\n",
        "* With less testing data, the testing results are more variable. Though testing is faster.\n",
        "    \n",
        "The key decision here is what value to choose for $k$. So it makes sense to use the 33% test split, because the smaller error bars give us better confidence in our decision.\n",
        "   \n",
        "---\n",
        "\n",
        "We can get a sense of why $k$-NN can succeed at this task by looking at the nearest neighbors of some points."
      ]
    },
    {
      "cell_type": "code",
      "metadata": {},
      "source": [
        "knn = KNeighborsClassifier(n_neighbors = 3)    \n",
        "knn.fit(X, y)\n",
        "neighbors = knn.kneighbors(X[:3,:], n_neighbors=3, return_distance=False)"
      ],
      "execution_count": null,
      "outputs": []
    },
    {
      "cell_type": "code",
      "metadata": {},
      "source": [
        "#| fig-align: center\n",
        "plt.rc(\"image\", cmap=\"binary\")  # this sets a black on white colormap\n",
        "for t in range(3):\n",
        "    plt.figure(figsize=(8, 2))\n",
        "    plt.subplot(1, 4, 1)\n",
        "    plt.imshow(X[t].reshape(8, 8))\n",
        "    plt.axis('off')\n",
        "    plt.title(\"Query\")\n",
        "    # plot three nearest neighbors from the training set\n",
        "    for i in [0, 1, 2]:\n",
        "        plt.subplot(1, 4, 2 + i)\n",
        "        plt.title(\"neighbor {}\".format(i))\n",
        "        plt.imshow(X[neighbors[t, i]].reshape(8, 8))\n",
        "        plt.axis('off')\n",
        "plt.show()"
      ],
      "execution_count": null,
      "outputs": []
    },
    {
      "cell_type": "markdown",
      "metadata": {},
      "source": [
        "::: {.content-visible when-profile=\"slides\"}\n",
        "## Summary\n",
        "\n",
        ":::: {.columns}\n",
        "::: {.column width=\"40%\"}\n",
        "\n",
        "We covered the following topics:\n",
        "\n",
        "- $k$-NN algorithm\n",
        "- Curse of Dimensionality\n",
        "- Worked with real datasets to perform model selection\n",
        "- Metrics like precision and recall for evaluating classifier performance\n",
        "\n",
        ":::\n",
        "::: {.column width=\"60%\"}\n",
        "\n",
        "![](figs/qrcode_course_feedback.png)\n",
        "\n",
        "[https://bit.ly/3NeAwgx](https://bit.ly/3NeAwgx)\n",
        "\n",
        ":::\n",
        "::::\n",
        "\n",
        ":::"
      ]
    }
  ],
  "metadata": {
    "kernelspec": {
      "name": "python3",
      "language": "python",
      "display_name": "Python 3 (ipykernel)",
      "path": "/Users/tgardos/Source/courses/ds701/DS701-Course-Notes/.venv/share/jupyter/kernels/python3"
    }
  },
  "nbformat": 4,
  "nbformat_minor": 4
}